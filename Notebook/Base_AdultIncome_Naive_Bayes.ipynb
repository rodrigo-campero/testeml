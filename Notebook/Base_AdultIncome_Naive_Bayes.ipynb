{
 "cells": [
  {
   "cell_type": "markdown",
   "metadata": {},
   "source": [
    "\n",
    "# Classificador: Naive Bayes"
   ]
  },
  {
   "attachments": {
    "image.png": {
     "image/png": "[encoded data removed]"
    }
   },
   "cell_type": "markdown",
   "metadata": {},
   "source": [
    "    O classificador Naïve Bayes que é baseado em modelo probabilístico, ou seja, a partir de uma tabela probabilística realiza-se uma classificação probabilística de observações, caracterizando-as em classes pré-definidas. \n",
    "    Este é um dos algoritmos de aprendizado supervisionado mais simples. Tem como premissa a suposição de independência entre as variáveis do problema. Isto é, o classificador Naïve Bayes assume que o efeito de uma determinada variável é independente de outras variáveis. Mesmo que essas características dependam umas das outras, todas contribuem independentemente para a probabilidade e, é por isso que ele é conhecido como “naïve” (ingênuo).\n",
    "    \n",
    " ![image.png](attachment:image.png)"
   ]
  },
  {
   "cell_type": "markdown",
   "metadata": {},
   "source": [
    "    Usando este teorema, o algoritmo de classificação Naïve Bayes calcula a probabilidade de cada classe para uma \n",
    "    dada observação do conjunto de dados de análise como:\n",
    "\n",
    "    (C = ci |X1 = x1,… ,Xp = xp) =(P(C = ci )P(X1 = x1,… ,Xp = xp|C = ci) )/(P(X1=x1,…Xp=xp))\n",
    "\n",
    "    Em que ci (i=1,2) é a classe e x1, ..., xp são os valores observados dos preditores (X1, ..., Xp) para uma dada\n",
    "    observação do conjunto de dados analisado. \n",
    "    \n",
    "    Depois de calcular a probabilidade a posteriori para várias classes diferentes, pode-se selecionar a classe com a \n",
    "    maior probabilidade.\n",
    "    \n",
    "    \n",
    "    O algoritmo Naïve Bayes classifica a observação na classe que tem a maior probabilidade.\n",
    "    MAP(y_i )=max⁡〖 ( ( P(y_i )  Π P(x^j   /  y_i  )〗) ; para cada classe\n",
    "    \n",
    "    Este método é denominado estimativa por MAP (do inglês, Maximun A Posteriori).\n"
   ]
  },
  {
   "cell_type": "markdown",
   "metadata": {},
   "source": [
    "### Nossa tarefa é analisar o conjunto de dados e prever se a renda de um adulto excederá 50K/ano ou não.\n"
   ]
  },
  {
   "cell_type": "markdown",
   "metadata": {},
   "source": [
    "\n",
    "### Classificador: Naive Bayes\n",
    "\n",
    "    Analisaremos uma base de dados de salários disponível no UCI Machine Learning.\n",
    "\n",
    "    Source: [UCI](https://archive.ics.uci.edu/ml/datasets/Adult) - 1996-05-01 . \n",
    "\n",
    "\n",
    "    A base de dados com 15 colunas e 48.842 linhas (Adult Salary Dataset).\n",
    "\n"
   ]
  },
  {
   "cell_type": "markdown",
   "metadata": {},
   "source": [
    "Listing of attributes:\n",
    "\n",
    "    income: >50K, <=50K.\n",
    "    age: continuous.\n",
    "    workclass: Private, Self-emp-not-inc, Self-emp-inc, Federal-gov, Local-gov, State-gov, Without-pay, Never-worked.\n",
    "    fnlwgt: continuous.\n",
    "    education: Bachelors, Some-college, 11th, HS-grad, Prof-school, Assoc-acdm, Assoc-voc, 9th, 7th-8th, 12th, Masters, 1st-4th, 10th, Doctorate, 5th-6th, Preschool.\n",
    "    education-num: continuous.\n",
    "    marital-status: Married-civ-spouse, Divorced, Never-married, Separated, Widowed, Married-spouse-absent, Married-AF-spouse.\n",
    "    occupation: Tech-support, Craft-repair, Other-service, Sales, Exec-managerial, Prof-specialty, Handlers-cleaners, Machine-op-inspct, Adm-clerical, Farming-fishing, Transport-moving, Priv-house-serv, Protective-serv, Armed-Forces.\n",
    "    relationship: Wife, Own-child, Husband, Not-in-family, Other-relative, Unmarried.\n",
    "    race: White, Asian-Pac-Islander, Amer-Indian-Eskimo, Other, Black.\n",
    "    sex: Female, Male.\n",
    "    capital-gain: continuous.\n",
    "    capital-loss: continuous.\n",
    "    hours-per-week: continuous.\n",
    "    native-country: United-States, Cambodia, England, Puerto-Rico, Canada, Germany, Outlying-US(Guam-USVI-etc), India, Japan, Greece, South, China, Cuba, Iran, Honduras, Philippines, Italy, Poland, Jamaica, Vietnam, Mexico, Portugal, Ireland, France, Dominican-Republic, Laos, Ecuador, Taiwan, Haiti, Columbia, Hungary, Guatemala, Nicaragua, Scotland, Thailand, Yugoslavia, El-Salvador, Trinadad&Tobago, Peru, Hong, Holand-Netherlands.\n",
    "\n"
   ]
  },
  {
   "cell_type": "code",
   "execution_count": null,
   "metadata": {},
   "outputs": [],
   "source": [
    "#Import libraries \n",
    "\n",
    "import numpy as np # linear algebra\n",
    "import pandas as pd # data processing\n",
    "\n",
    "# Libraries for data visualization\n",
    "import matplotlib.pyplot as plt  \n",
    "import seaborn as sb \n",
    "from pandas.plotting import scatter_matrix\n",
    "\n",
    "# Import scikit_learn module to split the dataset into train.test sub-datasets\n",
    "from sklearn.model_selection import train_test_split \n",
    "# Import scikit_learn module for k-fold cross validation\n",
    "from sklearn.model_selection import KFold\n",
    "from sklearn.model_selection import cross_val_score\n",
    "# import the metrics class\n",
    "from sklearn import metrics\n",
    "# import stats for accuracy \n",
    "import statsmodels.api as sm"
   ]
  },
  {
   "cell_type": "code",
   "execution_count": null,
   "metadata": {
    "colab": {
     "base_uri": "https://localhost:8080/",
     "height": 206
    },
    "id": "agTkcU4XYRxk",
    "outputId": "410a9934-b991-4d7b-9c48-90f101c21d50"
   },
   "outputs": [],
   "source": [
    "#load the dataset \n",
    "salary = pd.read_csv('adult.csv')\n",
    "salary.head()"
   ]
  },
  {
   "cell_type": "code",
   "execution_count": null,
   "metadata": {},
   "outputs": [],
   "source": [
    "# salary dataset info to find columns and count of the data \n",
    "salary.info()"
   ]
  },
  {
   "cell_type": "code",
   "execution_count": null,
   "metadata": {},
   "outputs": [],
   "source": [
    "# Verificando a existencia de valores ausentes(missing)\n",
    "\n",
    "salary.isnull().sum()\n"
   ]
  },
  {
   "cell_type": "code",
   "execution_count": null,
   "metadata": {},
   "outputs": [],
   "source": [
    "# Olhando com mais cuidado os valores ausentes!!! "
   ]
  },
  {
   "cell_type": "code",
   "execution_count": null,
   "metadata": {},
   "outputs": [],
   "source": [
    "salary.head(10).T"
   ]
  },
  {
   "cell_type": "markdown",
   "metadata": {},
   "source": [
    "     Quando avaliamos as categorias do gráfico acima da variável workclass encontramos a categoria '?'. \n",
    "     \n",
    "     Não encontramos missings na avaliação inicial das variáveis, mas encontramos esse caracter.\n",
    "     Fazendo uma verificação para as variáveis categoricas.\n",
    "     Encontramos:"
   ]
  },
  {
   "cell_type": "code",
   "execution_count": null,
   "metadata": {},
   "outputs": [],
   "source": [
    "# code will replace the special character to nan and then drop the columns \n",
    "salary['workclass'] = salary['workclass'].replace('?',np.nan)\n",
    "salary['native-country'] =salary['native-country'].replace('?',np.nan)\n",
    "salary['occupation'] = salary['occupation'].replace('?',np.nan)\n",
    "\n",
    "\n",
    "#dropping the NaN rows now \n",
    "# salary.dropna(how='any',inplace=True)"
   ]
  },
  {
   "cell_type": "code",
   "execution_count": null,
   "metadata": {},
   "outputs": [],
   "source": [
    "# Verificando a existencia de valores ausentes(missing)\n",
    "\n",
    "salary.isnull().sum()"
   ]
  },
  {
   "cell_type": "markdown",
   "metadata": {},
   "source": [
    "    Uma opção pode ser excluirmos as observações com missings.\n",
    "    Outra opção é não trabalharmos com essas variáveis\n",
    "\n",
    "    Optamos pela segunda opção"
   ]
  },
  {
   "cell_type": "code",
   "execution_count": null,
   "metadata": {},
   "outputs": [],
   "source": [
    "# informações das variaveis quantitativas\n",
    "\n",
    "salary.describe().T"
   ]
  },
  {
   "cell_type": "code",
   "execution_count": null,
   "metadata": {
    "scrolled": true
   },
   "outputs": [],
   "source": [
    "# Uma variável é a variável target: \"income\" : renda anual \n",
    "(salary.income.value_counts() / salary.shape[0]) * 100"
   ]
  },
  {
   "cell_type": "markdown",
   "metadata": {},
   "source": [
    "    A base disponibilizada para realizar o aprendizado apresenta duas classes: <=50K e >50K  \n",
    "\n",
    "    A variável target income está no formato categórica, vamos criar uma nova variável transformando a variável \n",
    "    target em númerica\n",
    "\n",
    "    Há várias opções de fazer essa transformação: vamos usar a função \"map\""
   ]
  },
  {
   "cell_type": "code",
   "execution_count": null,
   "metadata": {},
   "outputs": [],
   "source": [
    " \n",
    "#mapping the data into numerical data using map function\n",
    "salary['Renda'] = salary['income'].map({'<=50K': 0, '>50K': 1}).astype(int)"
   ]
  },
  {
   "cell_type": "markdown",
   "metadata": {},
   "source": [
    "    As análises a seguir sempre usaremos a variável target \"Income\" \n",
    "\n",
    "    Vamos analisar as demais variáveis para selecionar quais são as variáveis preditoras plusíveis para utilizar no algoritmo"
   ]
  },
  {
   "cell_type": "code",
   "execution_count": null,
   "metadata": {
    "scrolled": true
   },
   "outputs": [],
   "source": [
    "# Verificando a variável Age\n",
    "\n",
    "sb.histplot(data=salary, x=\"age\");"
   ]
  },
  {
   "cell_type": "markdown",
   "metadata": {},
   "source": [
    "    Quando estamos trabalhando com técnicas supervisionadas precisamos avaliar as variáveis preditoras \n",
    "    sempre verificando sua disribuição separadamente entre as classes."
   ]
  },
  {
   "cell_type": "code",
   "execution_count": null,
   "metadata": {},
   "outputs": [],
   "source": [
    "# Variável age(idade)  com a variável target  (Objetivo)\n",
    "import matplotlib.pyplot as plt  \n",
    "sb.boxplot(x='income', y='age', data=salary)\n",
    "plt.title('Distribuição de age por classe da variável target')\n",
    "plt.show()"
   ]
  },
  {
   "cell_type": "code",
   "execution_count": null,
   "metadata": {},
   "outputs": [],
   "source": [
    "# Transformando a variável \"age\" em  categorias\n",
    "\n",
    "age_cat = []\n",
    "for dados in salary['age']:\n",
    "    if dados <= 30:\n",
    "        age_cat.append('0')\n",
    "    elif dados <= 45:\n",
    "        age_cat.append('1')\n",
    "    else:\n",
    "        age_cat.append(\"2\")#atribuindo a nova variavel ao conjunto de dados\n",
    "salary['age_cat'] = age_cat\n",
    "#resultado\n",
    "salary.head().T"
   ]
  },
  {
   "cell_type": "code",
   "execution_count": null,
   "metadata": {},
   "outputs": [],
   "source": [
    "# comparison between age_cat and target\n",
    "\n",
    "Age_cat = pd.crosstab(salary['income'],salary['age_cat'])\n",
    "Age_cat.div(Age_cat.sum(1).astype(float), axis=0).plot(kind=\"bar\", stacked=True, figsize=(6, 6));"
   ]
  },
  {
   "cell_type": "markdown",
   "metadata": {},
   "source": [
    "Podemos verificar pelo boxplot acima da  variável idade  por classe que a classe >50K apresenta medidas de posição  superior que as encontradas na classe <50K."
   ]
  },
  {
   "cell_type": "code",
   "execution_count": null,
   "metadata": {},
   "outputs": [],
   "source": [
    "#plotting a bar graph for age_cat  against Income to see the co-relation between these columns \n",
    "salary.groupby('age_cat').Renda.mean().plot(kind='bar');\n"
   ]
  },
  {
   "cell_type": "code",
   "execution_count": null,
   "metadata": {},
   "outputs": [],
   "source": [
    "# comparison between Sexo and target\n",
    "\n",
    "Gender = pd.crosstab(salary['income'],salary['gender'])\n",
    "Gender.div(Gender.sum(1).astype(float), axis=0).plot(kind=\"bar\", stacked=True, figsize=(6, 6));"
   ]
  },
  {
   "cell_type": "markdown",
   "metadata": {},
   "source": [
    "Podemos verificar pelo gráfico acima que na classe >50K encontramos maior penetração de indivíduos do sexo masculino, em comparação a classe <=50K."
   ]
  },
  {
   "cell_type": "markdown",
   "metadata": {},
   "source": [
    "Nem todo algoritmo podemos trabalhar com variáveis preditoras categóricas, \n",
    "assim vamos fazer transformações de variáveis: deixando variáveis categóricas em numéricas."
   ]
  },
  {
   "cell_type": "code",
   "execution_count": null,
   "metadata": {},
   "outputs": [],
   "source": [
    "# Transformando a variável categórica em tipo Dummy\n",
    "\n",
    "#gender\n",
    "salary['Male'] = salary['gender'].map({'Male': 1, 'Female': 0}).astype(int)"
   ]
  },
  {
   "cell_type": "code",
   "execution_count": null,
   "metadata": {},
   "outputs": [],
   "source": [
    "#plotting a bar graph for Sex against Income to see the co-relation between these columns \n",
    "salary.groupby('Male').Renda.mean().plot(kind='bar');"
   ]
  },
  {
   "cell_type": "code",
   "execution_count": null,
   "metadata": {},
   "outputs": [],
   "source": [
    "salary.head().T"
   ]
  },
  {
   "cell_type": "code",
   "execution_count": null,
   "metadata": {},
   "outputs": [],
   "source": [
    "# comparison between marital-status and target\n",
    "\n",
    "MaritalStatus = pd.crosstab(salary['income'],salary['marital-status'])\n",
    "MaritalStatus.div(MaritalStatus.sum(1).astype(float), axis=0).plot(kind=\"bar\", stacked=True, figsize=(12, 12));"
   ]
  },
  {
   "cell_type": "markdown",
   "metadata": {},
   "source": [
    "Comparando as distribuição das categorias de marital-status entre as duas classes, podemos perceber que na classe >50K há um percentual maior da classe Married-civ-spouse"
   ]
  },
  {
   "cell_type": "code",
   "execution_count": null,
   "metadata": {},
   "outputs": [],
   "source": [
    "#marital-status\n",
    " \n",
    "# Transformando a variável Estad civil em casado e Não casado\n",
    "\n",
    "salary['Married'] = salary['marital-status'].map({'Married-spouse-absent': 0, 'Widowed': 0, 'Married-civ-spouse': 1, 'Separated': 0, 'Divorced': 0,'Never-married': 0, 'Married-AF-spouse':1}).astype(int)\n"
   ]
  },
  {
   "cell_type": "code",
   "execution_count": null,
   "metadata": {},
   "outputs": [],
   "source": [
    "# comparison between marital-status and target\n",
    "\n",
    "MaritalStatus = pd.crosstab(salary['income'],salary['Married'])\n",
    "MaritalStatus.div(MaritalStatus.sum(1).astype(float), axis=0).plot(kind=\"bar\", stacked=True, figsize=(6, 6));"
   ]
  },
  {
   "cell_type": "code",
   "execution_count": null,
   "metadata": {},
   "outputs": [],
   "source": [
    "#plotting a bar graph for MaritalStatus  against Income to see the co-relation between these columns \n",
    "salary.groupby('Married').Renda.mean().plot(kind='bar');\n"
   ]
  },
  {
   "cell_type": "code",
   "execution_count": null,
   "metadata": {},
   "outputs": [],
   "source": [
    "# comparison between educational-num  and target\n",
    "\n",
    "Educational= pd.crosstab(salary['income'],salary['educational-num'])\n",
    "Educational.div(Educational.sum(1).astype(float), axis=0).plot(kind=\"bar\", stacked=True, figsize=(8, 8));\n",
    " "
   ]
  },
  {
   "cell_type": "code",
   "execution_count": null,
   "metadata": {},
   "outputs": [],
   "source": [
    "#plotting a bar graph for educational-num  against Income to see the co-relation between these columns \n",
    "salary.groupby('educational-num').Renda.mean().plot(kind='bar');"
   ]
  },
  {
   "cell_type": "markdown",
   "metadata": {},
   "source": [
    "Podemos perceber penetração de renda >50K por categoria de educational-num\n",
    "\n",
    "Vamos criar categorias conforme a força dessa penetração"
   ]
  },
  {
   "cell_type": "code",
   "execution_count": null,
   "metadata": {},
   "outputs": [],
   "source": [
    "# PRE-PROCESSAMENTO\n",
    "# Vamos utilizar os algoritmos de classificação para prever os resultados, \n",
    "\n",
    "educa_cat = []\n",
    "for dados in salary['educational-num']:\n",
    "    if dados <= 8:\n",
    "        educa_cat.append('0')\n",
    "    elif dados == 9:\n",
    "        educa_cat.append('1')\n",
    "    elif dados <= 12:\n",
    "        educa_cat.append('2')\n",
    "    else:\n",
    "        educa_cat.append(\"3\")#atribuindo a nova variavel ao conjunto de dados\n",
    "salary['educa_cat'] = educa_cat\n",
    "#resultado\n",
    "salary.head().T"
   ]
  },
  {
   "cell_type": "code",
   "execution_count": null,
   "metadata": {},
   "outputs": [],
   "source": [
    "# comparison between educational-num  and target\n",
    "\n",
    "Educational= pd.crosstab(salary['income'],salary['educa_cat'])\n",
    "Educational.div(Educational.sum(1).astype(float), axis=0).plot(kind=\"bar\", stacked=True, figsize=(6, 6));\n",
    " "
   ]
  },
  {
   "cell_type": "code",
   "execution_count": null,
   "metadata": {},
   "outputs": [],
   "source": [
    "# plotting a bar graph for educa_cat  against Income to see the co-relation between these columns \n",
    "salary.groupby('educa_cat').Renda.mean().plot(kind='bar',title='Penetração Renda >50K por escolaridade ');"
   ]
  },
  {
   "cell_type": "code",
   "execution_count": null,
   "metadata": {},
   "outputs": [],
   "source": [
    "# comparison between race  and target\n",
    "\n",
    "Race= pd.crosstab(salary['income'],salary['race'])\n",
    "Race.div(Race.sum(1).astype(float), axis=0).plot(kind=\"bar\", stacked=True, figsize=(10, 10));"
   ]
  },
  {
   "cell_type": "code",
   "execution_count": null,
   "metadata": {},
   "outputs": [],
   "source": [
    "#race\n",
    "salary['race_white'] =salary['race'].map({'Black': 0, 'Asian-Pac-Islander': 0, 'Other': 0, 'White': 1, 'Amer-Indian-Eskimo': 0}).astype(int)\n"
   ]
  },
  {
   "cell_type": "code",
   "execution_count": null,
   "metadata": {
    "scrolled": true
   },
   "outputs": [],
   "source": [
    "# comparison between race_white  and target\n",
    "\n",
    "Race_white= pd.crosstab(salary['income'],salary['race_white'])\n",
    "Race_white.div(Race_white.sum(1).astype(float), axis=0).plot(kind=\"bar\", stacked=True, figsize=(6, 6));"
   ]
  },
  {
   "cell_type": "code",
   "execution_count": null,
   "metadata": {},
   "outputs": [],
   "source": [
    "# plotting a bar graph for race against Income to see the co-relation between these columns \n",
    "salary.groupby('race_white').Renda.mean().plot(kind='bar');"
   ]
  },
  {
   "cell_type": "markdown",
   "metadata": {},
   "source": []
  },
  {
   "cell_type": "code",
   "execution_count": null,
   "metadata": {},
   "outputs": [],
   "source": []
  },
  {
   "cell_type": "code",
   "execution_count": null,
   "metadata": {},
   "outputs": [],
   "source": [
    "salary.info()"
   ]
  },
  {
   "cell_type": "code",
   "execution_count": null,
   "metadata": {},
   "outputs": [],
   "source": [
    "# Variável hours-per-week  com a variável target  (Objetivo)\n",
    "\n",
    "import matplotlib.pyplot as plt  \n",
    "sb.boxplot(x='income', y='hours-per-week', data=salary)\n",
    "plt.title('Distribuição de hours-per-week por classe da variável target')\n",
    "plt.show()"
   ]
  },
  {
   "cell_type": "code",
   "execution_count": null,
   "metadata": {},
   "outputs": [],
   "source": [
    "horasweek = []\n",
    "for dados in salary['hours-per-week']:\n",
    "    if dados < 40:\n",
    "        horasweek.append('0')\n",
    "    elif dados == 40:\n",
    "        horasweek.append('1')\n",
    "    else:\n",
    "        horasweek.append(\"2\")#atribuindo a nova variavel ao conjunto de dados\n",
    "salary['horasweek'] = horasweek\n",
    "#resultado\n",
    " "
   ]
  },
  {
   "cell_type": "code",
   "execution_count": null,
   "metadata": {},
   "outputs": [],
   "source": [
    "# plotting a bar graph for race against Income to see the co-relation between these columns \n",
    "salary.groupby('horasweek').Renda.mean().plot(kind='bar');"
   ]
  },
  {
   "cell_type": "code",
   "execution_count": null,
   "metadata": {},
   "outputs": [],
   "source": [
    "\n",
    "# Variável capital-gain  com a variável target  (Objetivo)\n",
    "\n",
    "import matplotlib.pyplot as plt  \n",
    "sb.boxplot(x='income', y='capital-gain', data=salary)\n",
    "plt.title('Distribuição de capital-gain por classe da variável target')\n",
    "plt.show()"
   ]
  },
  {
   "cell_type": "code",
   "execution_count": null,
   "metadata": {},
   "outputs": [],
   "source": [
    "capitalgain = []\n",
    "for dados in salary['capital-gain']:\n",
    "    if dados == 0:\n",
    "        capitalgain.append('0')\n",
    "    else:\n",
    "        capitalgain.append(\"1\")#atribuindo a nova variavel ao conjunto de dados\n",
    "salary['capitalgain'] = capitalgain\n",
    "\n",
    "# se teve ou não ganho de capital\n",
    "(salary.capitalgain.value_counts() / salary.shape[0]) * 100"
   ]
  },
  {
   "cell_type": "code",
   "execution_count": null,
   "metadata": {},
   "outputs": [],
   "source": [
    "# plotting a bar graph for race against Income to see the co-relation between these columns \n",
    "salary.groupby('capitalgain').Renda.mean().plot(kind='bar');"
   ]
  },
  {
   "cell_type": "code",
   "execution_count": null,
   "metadata": {},
   "outputs": [],
   "source": []
  },
  {
   "cell_type": "code",
   "execution_count": null,
   "metadata": {},
   "outputs": [],
   "source": [
    "\n",
    "# Variável capital-loss  com a variável target  (Objetivo)\n",
    "\n",
    "import matplotlib.pyplot as plt  \n",
    "sb.boxplot(x='income', y='capital-loss', data=salary)\n",
    "plt.title('Distribuição de capital-loss por classe da variável target')\n",
    "plt.show()"
   ]
  },
  {
   "cell_type": "code",
   "execution_count": null,
   "metadata": {},
   "outputs": [],
   "source": [
    "capitalloss = []\n",
    "for dados in salary['capital-loss']:\n",
    "    if dados == 0:\n",
    "        capitalloss.append('0')\n",
    "    else:\n",
    "        capitalloss.append(\"1\")#atribuindo a nova variavel ao conjunto de dados\n",
    "salary['capitalloss'] = capitalloss\n",
    "#resultado\n",
    "\n",
    "# se teve ou não perda de capital\n",
    "(salary.capitalloss.value_counts() / salary.shape[0]) * 100"
   ]
  },
  {
   "cell_type": "code",
   "execution_count": null,
   "metadata": {},
   "outputs": [],
   "source": [
    "# plotting a bar graph for race against Income to see the co-relation between these columns \n",
    "salary.groupby('capitalloss').Renda.mean().plot(kind='bar');"
   ]
  },
  {
   "cell_type": "code",
   "execution_count": null,
   "metadata": {},
   "outputs": [],
   "source": [
    "check = salary.groupby(['capitalgain', 'capitalloss']).size().unstack(1)\n",
    "check.head(20)"
   ]
  },
  {
   "cell_type": "code",
   "execution_count": null,
   "metadata": {},
   "outputs": [],
   "source": [
    "# Criar uma variável gainloss no Data Frame, sendo 0 = não ganhou nem perdeu capaital , 1= ganhou ou perdeu \n",
    "salary.loc[((salary.capitalgain =='0') & (salary.capitalloss =='0')),'gainloss']='0'\n",
    "salary.loc[((salary.capitalgain =='1') & (salary.capitalloss =='0')), 'gainloss']='1'\n",
    "salary.loc[((salary.capitalgain =='0') & (salary.capitalloss =='1')), 'gainloss']='1'\n",
    "salary.loc[((salary.capitalgain =='1') & (salary.capitalloss =='1')), 'gainloss']='1'\n",
    "\n",
    "(salary.gainloss.value_counts() / salary.shape[0]) * 100"
   ]
  },
  {
   "cell_type": "code",
   "execution_count": null,
   "metadata": {},
   "outputs": [],
   "source": [
    "# se teve ou não perda de capital\n",
    "(salary.gainloss.value_counts() / salary.shape[0]) * 100"
   ]
  },
  {
   "cell_type": "code",
   "execution_count": null,
   "metadata": {},
   "outputs": [],
   "source": [
    "# plotting a bar graph for race against Income to see the co-relation between these columns \n",
    "salary.groupby('gainloss').Renda.mean().plot(kind='bar');"
   ]
  },
  {
   "cell_type": "code",
   "execution_count": null,
   "metadata": {},
   "outputs": [],
   "source": [
    "#informaoes das variaveis\n",
    "salary.info()"
   ]
  },
  {
   "cell_type": "markdown",
   "metadata": {},
   "source": [
    "## Finalmente temos:\n",
    "\n",
    "### Variável Target: Income (classe de renda <=50K e >50K) \n",
    "\n",
    "### Variáveis Preditoras:  Age( age_cat) Male Married race_white educa_cat  horasweek gainloss"
   ]
  },
  {
   "cell_type": "code",
   "execution_count": null,
   "metadata": {},
   "outputs": [],
   "source": [
    "#dropping based on uniquiness of data from the dataset \n",
    "# A função Pandas .drop() é usada para remover colunas ou linhas especificadas.\n",
    "# axis=1 representa que pretendemos descartar a própria coluna, \n",
    "# inplace=True é mencionar que estamos substituindo o dataframe original, ou seja, \n",
    "# salary pelo conjunto de dados limpo após descartar as colunas.\n",
    "\n",
    "\n",
    "salary.drop(['workclass','fnlwgt', 'educational-num','education', 'marital-status', 'hours-per-week', 'occupation','relationship','race','gender',   'capital-gain','capital-loss','capitalgain','capitalloss', 'native-country'], axis=1, inplace=True)"
   ]
  },
  {
   "cell_type": "code",
   "execution_count": null,
   "metadata": {},
   "outputs": [],
   "source": [
    "\n",
    "salary.head().T\n"
   ]
  },
  {
   "cell_type": "markdown",
   "metadata": {},
   "source": [
    "Agora que chegamos nas variáveis de analise: Variável target income e variáveis preditoras: "
   ]
  },
  {
   "cell_type": "code",
   "execution_count": null,
   "metadata": {},
   "outputs": [],
   "source": [
    "salary.info()\n"
   ]
  },
  {
   "cell_type": "code",
   "execution_count": null,
   "metadata": {},
   "outputs": [],
   "source": [
    "salary.describe()"
   ]
  },
  {
   "cell_type": "code",
   "execution_count": null,
   "metadata": {},
   "outputs": [],
   "source": [
    "# usando o classificador Naive Bayes CategoricalNB com a variável idade categorica\n",
    "# 1º: Separar o conjunto em variavel resposta e variaveis de treinamento\n",
    " \n",
    "X = salary.iloc[:,[3,4,5,6,7,8,9]].values\n",
    "y = salary.iloc[:,1].values\n",
    "X.shape, y.shape"
   ]
  },
  {
   "cell_type": "code",
   "execution_count": null,
   "metadata": {},
   "outputs": [],
   "source": [
    "print(X)"
   ]
  },
  {
   "cell_type": "code",
   "execution_count": null,
   "metadata": {},
   "outputs": [],
   "source": [
    "print(y)"
   ]
  },
  {
   "cell_type": "code",
   "execution_count": null,
   "metadata": {},
   "outputs": [],
   "source": [
    "#Split the data into 70% training and 30% testing data\n",
    "#NOTE: We have to split the dependent variables (x) and the target or independent variable (y)\n",
    "X_train, X_test, y_train, y_test = train_test_split(X, y, test_size=0.30, random_state=17)"
   ]
  },
  {
   "cell_type": "code",
   "execution_count": null,
   "metadata": {},
   "outputs": [],
   "source": [
    "# Documentação do Naive Bayes: https://scikit-learn.org/stable/modules/naive_bayes.html\n",
    "from sklearn.naive_bayes import CategoricalNB\n",
    "\n",
    "nbCat = CategoricalNB()\n"
   ]
  },
  {
   "cell_type": "code",
   "execution_count": null,
   "metadata": {},
   "outputs": [],
   "source": [
    "#Train our model with the training data\n",
    "nbCat.fit(X_train, y_train)\n"
   ]
  },
  {
   "cell_type": "code",
   "execution_count": null,
   "metadata": {},
   "outputs": [],
   "source": [
    "#print our price predictions on our test data\n",
    "y_pred = nbCat.predict(X_test)"
   ]
  },
  {
   "cell_type": "code",
   "execution_count": null,
   "metadata": {},
   "outputs": [],
   "source": [
    "#printing the accuracy values \n",
    "print(\"Accuracy:\",metrics.accuracy_score(y_test, y_pred))"
   ]
  },
  {
   "cell_type": "code",
   "execution_count": null,
   "metadata": {},
   "outputs": [],
   "source": [
    "from sklearn.metrics import confusion_matrix,accuracy_score\n",
    "\n",
    "cm_nbCat = confusion_matrix(y_test, y_pred)\n",
    "\n",
    "\n",
    "print(\"Confusion Matrix:\"),cm_nbCat"
   ]
  },
  {
   "cell_type": "code",
   "execution_count": null,
   "metadata": {},
   "outputs": [],
   "source": [
    "ac_nbCat = accuracy_score(y_test,y_pred)\n",
    "\n",
    "print(\"Accuracy:\"), ac_nbCat*100"
   ]
  },
  {
   "cell_type": "code",
   "execution_count": null,
   "metadata": {},
   "outputs": [],
   "source": [
    "    \n",
    "#sklearn.metrics.precision_recall_fscore_support\n",
    "from sklearn.metrics import classification_report\n",
    "print(classification_report(y_test, y_pred))\n",
    "\n",
    "# Resultado do classification_report:"
   ]
  },
  {
   "cell_type": "code",
   "execution_count": null,
   "metadata": {},
   "outputs": [],
   "source": []
  },
  {
   "cell_type": "code",
   "execution_count": null,
   "metadata": {},
   "outputs": [],
   "source": [
    "#feeding the predict function with our test values in the format \n",
    "[['age_cat','Male','Married','educa_cat','race_white','horas_week','gainloss']]\n",
    "nbCat.predict([[2,1,1,2,1,1,0]])"
   ]
  },
  {
   "cell_type": "code",
   "execution_count": null,
   "metadata": {},
   "outputs": [],
   "source": [
    "# usando o classificador Naive Bayes  GaussianNB com a variável idade quantitativa\n",
    "# 1º: Separar o conjunto em variavel resposta e variaveis de treinamento\n",
    "\n",
    "X = salary.iloc[:,[0,4,5,6,7,8,9]].values\n",
    "y = salary.iloc[:,1].values\n",
    "X.shape, y.shape"
   ]
  },
  {
   "cell_type": "code",
   "execution_count": null,
   "metadata": {},
   "outputs": [],
   "source": [
    "from sklearn.naive_bayes import GaussianNB\n",
    "nbGau = GaussianNB()\n",
    "\n"
   ]
  },
  {
   "cell_type": "code",
   "execution_count": null,
   "metadata": {},
   "outputs": [],
   "source": [
    "# aplicando o algoritmo na  base treino\n",
    "nbGau.fit(X_train, y_train)\n"
   ]
  },
  {
   "cell_type": "code",
   "execution_count": null,
   "metadata": {},
   "outputs": [],
   "source": [
    "# Let’s predict the test results\n",
    "y_pred  =  nbGau.predict(X_test)\n"
   ]
  },
  {
   "cell_type": "code",
   "execution_count": null,
   "metadata": {},
   "outputs": [],
   "source": [
    " print(\"Predicted value –:\"), y_pred  "
   ]
  },
  {
   "cell_type": "code",
   "execution_count": null,
   "metadata": {},
   "outputs": [],
   "source": [
    "from sklearn.metrics import confusion_matrix,accuracy_score\n",
    "cm_nbGau = confusion_matrix(y_test, y_pred)\n",
    "ac_nbGau = accuracy_score(y_test,y_pred)"
   ]
  },
  {
   "cell_type": "code",
   "execution_count": null,
   "metadata": {},
   "outputs": [],
   "source": [
    " print(\"Confusion Matrix:\"), cm_nbGau"
   ]
  },
  {
   "cell_type": "code",
   "execution_count": null,
   "metadata": {},
   "outputs": [],
   "source": [
    " print(\"Accuracy:\"), ac_nbGau*100"
   ]
  },
  {
   "cell_type": "code",
   "execution_count": null,
   "metadata": {},
   "outputs": [],
   "source": [
    "print(classification_report(y_test, y_pred))\n",
    "\n",
    "# Resultado do classification_report:"
   ]
  },
  {
   "cell_type": "code",
   "execution_count": null,
   "metadata": {},
   "outputs": [],
   "source": [
    "#feeding the predict function with our test values in the format \n",
    "[['age','Male','Married','educa_cat','race_white','horas_week','gainloss']]\n",
    "nbGau.predict([[45,0,0,1,1,1,0]])"
   ]
  },
  {
   "cell_type": "code",
   "execution_count": null,
   "metadata": {},
   "outputs": [],
   "source": []
  }
 ],
 "metadata": {
  "colab": {
   "name": "Classificação Naive Bayes.ipynb",
   "provenance": []
  },
  "kernelspec": {
   "display_name": "Python 3 (ipykernel)",
   "language": "python",
   "name": "python3"
  },
  "language_info": {
   "codemirror_mode": {
    "name": "ipython",
    "version": 3
   },
   "file_extension": ".py",
   "mimetype": "text/x-python",
   "name": "python",
   "nbconvert_exporter": "python",
   "pygments_lexer": "ipython3",
   "version": "3.9.12"
  }
 },
 "nbformat": 4,
 "nbformat_minor": 1
}
