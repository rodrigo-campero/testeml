{
 "cells": [
  {
   "cell_type": "markdown",
   "metadata": {},
   "source": [
    "# Market Basket Analysis\n",
    "\n",
    "# Geração de Regras de Associação - Algoritmo Apriori"
   ]
  },
  {
   "cell_type": "markdown",
   "metadata": {},
   "source": [
    "### Recomendação de Produtos"
   ]
  },
  {
   "cell_type": "markdown",
   "metadata": {},
   "source": [
    "## Como podemos definir o que são regras de associação?\n",
    "\n",
    "Regras de associação são um conjunto de métricas e regras criadas para identificar a relação entre dados. Esse tipo de técnica é muito utilizado em sistemas de recomendação, como por exemplo a Netflix, Spotify e também muito utilizado em cestas de compras em supermercados, lojas virtuais, etc.\n",
    "\n",
    "Basicamente as regras de associações funcionam com algumas métricas de suporte a decisão. Essas métricas direcionam a identificação sobre qual a probabilidade de um produto \"X\" está relacionado com o produto \"Y\" por exemplo.\n",
    "\n",
    "### Algoritmo Apriori\n",
    "\n",
    "O Algoritmo Apriori é uma das técnicas de associação mais utilizada para criar associação aos dados. Vamos implementar o algoritmo passo a passo em Python e entender seu funcionamento.\n",
    "\n",
    "Basicamente, o algoritmo utiliza 3 métricas para associar dados, sendo elas:\n",
    "* Suporte\n",
    "* Confiança\n",
    "* Lift\n",
    "\n",
    "https://pypi.org/project/apyori/"
   ]
  },
  {
   "cell_type": "markdown",
   "metadata": {},
   "source": [
    "Vamos imaginar que temos dois tipos de produtos, X e Y:\n",
    "\n",
    "### Support: \n",
    "\n",
    "Suporte: Frequência relativa da associação: (XY/n) - número de clientes com os dois produtos dividido pelo número total de clientes. \n",
    "\n",
    "### Confidence: \n",
    "Confiança: (XY/X) - Percentual de clientes que compraram  produto Y dentro daqueles que compraram X. Proporção de vezes tanto para o produto X quanto para Y dentro de uma **mesma** transação. É a probabilidadepara uma nova transação que contém os itens no LHS da regra. \n",
    "\n",
    "### Lift:\n",
    "\n",
    "O lift traz o valor de frequência sobre um dado correlacionado a outro dado. Quanto aumenta a frequência de Y em relação a X?"
   ]
  },
  {
   "cell_type": "markdown",
   "metadata": {},
   "source": [
    "### Implementando o algoritmo de Apriori"
   ]
  },
  {
   "cell_type": "markdown",
   "metadata": {},
   "source": [
    "Para implementar o algoritmo, vamos utilizar uma base de dados que contém linhas de registros de filmes assistidos por usuário."
   ]
  },
  {
   "cell_type": "markdown",
   "metadata": {},
   "source": [
    "#### Importando as bibliotecas necessárias:\n"
   ]
  },
  {
   "cell_type": "code",
   "execution_count": null,
   "metadata": {},
   "outputs": [],
   "source": [
    "! pip install apyori\n",
    "! pip install efficient-apriori\n",
    "! pip install missingno"
   ]
  },
  {
   "cell_type": "code",
   "execution_count": null,
   "metadata": {},
   "outputs": [],
   "source": [
    "import numpy as np  \n",
    "import matplotlib.pyplot as plt  \n",
    "import pandas as pd  \n",
    "import missingno as msno \n",
    "from apyori import apriori"
   ]
  },
  {
   "cell_type": "markdown",
   "metadata": {},
   "source": [
    "#### Importando a base de dados para trabalharmos com o algoritmo:"
   ]
  },
  {
   "cell_type": "code",
   "execution_count": null,
   "metadata": {},
   "outputs": [],
   "source": [
    "filmes_dataset = pd.read_csv('movie_dataset.csv', header = None)\n",
    "total_registros = len(filmes_dataset)\n",
    "print(total_registros)"
   ]
  },
  {
   "cell_type": "code",
   "execution_count": null,
   "metadata": {},
   "outputs": [],
   "source": [
    "filmes_dataset.head(5)"
   ]
  },
  {
   "cell_type": "code",
   "execution_count": null,
   "metadata": {
    "scrolled": false
   },
   "outputs": [],
   "source": [
    "msno.matrix(filmes_dataset)"
   ]
  },
  {
   "cell_type": "markdown",
   "metadata": {},
   "source": [
    "#### Processamento dos dados:\n",
    "\n",
    "A biblioteca Apyori que vamos usar requer que nosso conjunto de dados esteja na forma de uma lista de produtos/filmes. Vamos realizar a conversão do dataframe \"filmes_dataset\" em uma grande lista:"
   ]
  },
  {
   "cell_type": "code",
   "execution_count": null,
   "metadata": {},
   "outputs": [],
   "source": [
    "registros = []  \n",
    "for i in range(0, total_registros):  \n",
    "    registros.append([str(filmes_dataset.values[i,j]) for j in range(0, 20)])"
   ]
  },
  {
   "cell_type": "code",
   "execution_count": null,
   "metadata": {},
   "outputs": [],
   "source": [
    "#registros # analisando o resultado da lista"
   ]
  },
  {
   "cell_type": "markdown",
   "metadata": {},
   "source": [
    "#### Especificando os parâmetros do algoritmo apriori:\n",
    "\n",
    "- min_support (tamanho mínimo para suporte)\n",
    "- min_confidence (Confiança mínima)\n",
    "- min_lift (tamanho mínimo de lift)\n",
    "- min_length (tamanho mínimo de regras)"
   ]
  },
  {
   "cell_type": "code",
   "execution_count": null,
   "metadata": {},
   "outputs": [],
   "source": []
  },
  {
   "cell_type": "markdown",
   "metadata": {},
   "source": [
    "### Aplicando o algoritmo:"
   ]
  },
  {
   "cell_type": "code",
   "execution_count": null,
   "metadata": {},
   "outputs": [],
   "source": [
    "rules = apriori(registros, min_support=0.005, min_confidence=0.20, min_lift=3, min_length=2)\n",
    "# opções: min_support=0.003, min_confidence=0.20, min_lift=3, min_length=2, max_lenght =2\n",
    "results = list(rules)  #Convertendo regras encontradas em lista para visualizar os dados."
   ]
  },
  {
   "cell_type": "markdown",
   "metadata": {},
   "source": [
    "Número total de regras extraídas pela classe a priori:"
   ]
  },
  {
   "cell_type": "code",
   "execution_count": null,
   "metadata": {},
   "outputs": [],
   "source": [
    "print(len(results))"
   ]
  },
  {
   "cell_type": "code",
   "execution_count": null,
   "metadata": {},
   "outputs": [],
   "source": [
    "results"
   ]
  },
  {
   "cell_type": "markdown",
   "metadata": {},
   "source": [
    "Temos um total de 10 regras, vamos analisar quais são elas:"
   ]
  },
  {
   "cell_type": "code",
   "execution_count": null,
   "metadata": {},
   "outputs": [],
   "source": [
    "for regras in results:\n",
    "  print(results)"
   ]
  },
  {
   "cell_type": "markdown",
   "metadata": {},
   "source": [
    "Vamos analisar o primeiro item trazido pela regra:\n",
    "\n",
    "**{'Jumanji', 'Kung Fu Panda'}**\n",
    "\n",
    "- Temos um suporte de 0.0159, ou seja foi calculado o número total de transações contendo o filme Jumanji e Kung Fu Panda dividido pelo total de transações da base.\n",
    "\n",
    "- O nível de confiança para a regra é de 0.32, ou seja 30% das vezes que alguém assistiu Jumanji, também assistiu Kung Fu Panda.\n",
    "\n",
    "- O lift é de 3.29, ou seja, quem assistiu Jumanji tem 3 x mais chances de assistir Kung Fu Panda.\n",
    "\n"
   ]
  },
  {
   "cell_type": "markdown",
   "metadata": {},
   "source": [
    "O código abaixo organiza os resultados em tabela para identificarnos melhor as regras criadas:"
   ]
  },
  {
   "cell_type": "code",
   "execution_count": null,
   "metadata": {},
   "outputs": [],
   "source": [
    "# opção 1 \n",
    "\n",
    "def inspect(results):\n",
    "    lhs = [tuple(result[2][0][0])[0] for result in results]\n",
    "    rhs = [tuple(result[2][0][1])[0] for result in results]\n",
    "    supports = [result[1] for result in results]\n",
    "    confidences = [result[2][0][2] for result in results]\n",
    "    lifts = [result[2][0][3] for result in results]   \n",
    "    return list(zip(lhs, rhs, supports,confidences, lifts))\n",
    "resultsinDataFrame = pd.DataFrame(inspect(results),columns = ['Left Hand Side', 'Right Hand Side','Support','Confidence', 'Lift'])"
   ]
  },
  {
   "cell_type": "code",
   "execution_count": null,
   "metadata": {},
   "outputs": [],
   "source": [
    "resultsinDataFrame"
   ]
  },
  {
   "cell_type": "code",
   "execution_count": null,
   "metadata": {},
   "outputs": [],
   "source": [
    "resultsinDataFrame.nlargest(n=10, columns = 'Lift')\n"
   ]
  },
  {
   "cell_type": "code",
   "execution_count": null,
   "metadata": {},
   "outputs": [],
   "source": [
    "# opção 2\n",
    "\n",
    "resultados = []\n",
    "for item in results:\n",
    "    \n",
    "    # first index of the inner list\n",
    "    # Contains base item and add item\n",
    "    pair = item[0] \n",
    "    items = [x for x in pair]\n",
    "    \n",
    "    value0 = str(items[0])\n",
    "    value1 = str(items[1])\n",
    "\n",
    "    #second index of the inner list\n",
    "    value2 = str(item[1])[:7]\n",
    "\n",
    "    #third index of the list located at 0th\n",
    "    #of the third index of the inner list\n",
    "\n",
    "    value3 = str(item[2][0][2])[:7]\n",
    "    value4 = str(item[2][0][3])[:7]\n",
    "    \n",
    "    linhas = (value0, value1,value2,value3,value4)\n",
    "    resultados.append(linhas)\n",
    "    \n",
    "headers = ['Title 1','Title 2','Support','Confidence','Lift']\n",
    "sugestao_filmes = pd.DataFrame.from_records(resultados, columns = headers)\n",
    "\n",
    "print(sugestao_filmes)"
   ]
  },
  {
   "cell_type": "markdown",
   "metadata": {},
   "source": [
    "\n",
    "\n"
   ]
  }
 ],
 "metadata": {
  "kernelspec": {
   "display_name": "Python 3 (ipykernel)",
   "language": "python",
   "name": "python3"
  },
  "language_info": {
   "codemirror_mode": {
    "name": "ipython",
    "version": 3
   },
   "file_extension": ".py",
   "mimetype": "text/x-python",
   "name": "python",
   "nbconvert_exporter": "python",
   "pygments_lexer": "ipython3",
   "version": "3.9.12"
  }
 },
 "nbformat": 4,
 "nbformat_minor": 2
}
