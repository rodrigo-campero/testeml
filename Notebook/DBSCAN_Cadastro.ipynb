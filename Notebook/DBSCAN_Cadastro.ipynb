{
 "cells": [
  {
   "cell_type": "markdown",
   "id": "450f2528",
   "metadata": {},
   "source": [
    "## Clusters Analysis usando o algoritmo Density-Based Spatial Clustering (DBSCAN)"
   ]
  },
  {
   "cell_type": "markdown",
   "id": "e4e98488",
   "metadata": {},
   "source": [
    "link: ttps://www.youtube.com/watch?v=eq1zKgCFwkk Case: Implement DBSCAN Clustering and detecting OUTLIERS with Python\n",
    "\n",
    "https://scikit-learn.org/stable/modules/generated/sklearn.cluster.DBSCAN.html"
   ]
  },
  {
   "cell_type": "code",
   "execution_count": null,
   "id": "53ab181d",
   "metadata": {},
   "outputs": [],
   "source": [
    "import numpy as np\n",
    "import pandas as pd\n",
    "import matplotlib.pyplot as plt\n",
    "import seaborn as sns\n",
    "from sklearn.cluster import DBSCAN\n",
    "from collections import Counter\n",
    "from sklearn.preprocessing import StandardScaler\n",
    "from pylab import rcParams\n",
    "rcParams['figure.figsize'] = 14,6\n",
    "%matplotlib inline"
   ]
  },
  {
   "cell_type": "code",
   "execution_count": null,
   "id": "8d9cb288",
   "metadata": {},
   "outputs": [],
   "source": [
    "df = pd.read_csv('cadastro.csv')\n",
    "df.head()"
   ]
  },
  {
   "cell_type": "code",
   "execution_count": null,
   "id": "b5163974",
   "metadata": {},
   "outputs": [],
   "source": [
    "df.info()"
   ]
  },
  {
   "cell_type": "code",
   "execution_count": null,
   "id": "ffe63911",
   "metadata": {},
   "outputs": [],
   "source": [
    "df.isna().sum()"
   ]
  },
  {
   "cell_type": "code",
   "execution_count": null,
   "id": "ed3113c4",
   "metadata": {},
   "outputs": [],
   "source": [
    "df.replace('nan', np.NaN, inplace=True)"
   ]
  },
  {
   "cell_type": "code",
   "execution_count": null,
   "id": "7545c67a",
   "metadata": {},
   "outputs": [],
   "source": []
  },
  {
   "cell_type": "code",
   "execution_count": null,
   "id": "f13f8582",
   "metadata": {},
   "outputs": [],
   "source": [
    "df = df[df['LONGITUDE'].notna()]"
   ]
  },
  {
   "cell_type": "code",
   "execution_count": null,
   "id": "d11715d3",
   "metadata": {},
   "outputs": [],
   "source": [
    "df.info()"
   ]
  },
  {
   "cell_type": "code",
   "execution_count": null,
   "id": "4afab646",
   "metadata": {},
   "outputs": [],
   "source": []
  },
  {
   "cell_type": "code",
   "execution_count": null,
   "id": "99c7a521",
   "metadata": {},
   "outputs": [],
   "source": [
    "df.isna().sum()"
   ]
  },
  {
   "cell_type": "code",
   "execution_count": null,
   "id": "69b01e57",
   "metadata": {},
   "outputs": [],
   "source": [
    "_=plt.plot(df['LONGITUDE'], df['LATITUDE'], marker='.', linewidth=0, color='#128128')\n",
    "_=plt.grid(which='major', color='#cccccc', alpha=0.45)\n",
    "_=plt.title('Distribuição geográfica de GPS', family ='Arial', fontsize=12)\n",
    "_=plt.xlabel('Longitude')\n",
    "_=plt.ylabel('Latitude')\n",
    "_=plt.show()"
   ]
  },
  {
   "cell_type": "markdown",
   "id": "813e7daf",
   "metadata": {},
   "source": [
    "### Selecionando as variáveis segmentadoras"
   ]
  },
  {
   "cell_type": "code",
   "execution_count": null,
   "id": "f8df4131",
   "metadata": {},
   "outputs": [],
   "source": []
  },
  {
   "cell_type": "code",
   "execution_count": null,
   "id": "897cb2e8",
   "metadata": {},
   "outputs": [],
   "source": [
    "dbscan_df = df[['LONGITUDE', 'LATITUDE']]\n",
    "dbscan_df = dbscan_df.values.astype('float32', copy=False) \n",
    "dbscan_df"
   ]
  },
  {
   "cell_type": "code",
   "execution_count": null,
   "id": "5d4e5409",
   "metadata": {},
   "outputs": [],
   "source": [
    "dbscan_df_scaler = StandardScaler().fit(dbscan_df)\n",
    "dbscan_df = dbscan_df_scaler.transform(dbscan_df)\n",
    "dbscan_df"
   ]
  },
  {
   "cell_type": "markdown",
   "id": "de6802af",
   "metadata": {},
   "source": [
    "### parametros \n",
    "class sklearn.cluster.DBSCAN(eps=0.5, *, min_samples=5, metric='euclidean', metric_params=None, algorithm='auto', leaf_size=30, p=None, n_jobs=None\n",
    "\n"
   ]
  },
  {
   "cell_type": "code",
   "execution_count": null,
   "id": "9a93ce7c",
   "metadata": {},
   "outputs": [],
   "source": [
    "modelo = DBSCAN(eps=0.05, min_samples=5, metric='euclidean').\\\n",
    "         fit(dbscan_df)\n",
    "modelo"
   ]
  },
  {
   "cell_type": "code",
   "execution_count": null,
   "id": "e671ca2a",
   "metadata": {},
   "outputs": [],
   "source": [
    "# como ficou clusterizado\n",
    "modelo.labels_"
   ]
  },
  {
   "cell_type": "code",
   "execution_count": null,
   "id": "35ca7488",
   "metadata": {},
   "outputs": [],
   "source": [
    "print('Número de clusters = {}'.format(len(clusters)-1))"
   ]
  },
  {
   "cell_type": "code",
   "execution_count": null,
   "id": "86449f1a",
   "metadata": {},
   "outputs": [],
   "source": [
    "# Quantidade de observações por clusters\n",
    "clusters = Counter(modelo.labels_)\n",
    "print(clusters)"
   ]
  },
  {
   "cell_type": "code",
   "execution_count": null,
   "id": "e91bed02",
   "metadata": {},
   "outputs": [],
   "source": [
    "# separando outliers e Clusters\n",
    "outliers_df = df[modelo.labels_ == -1]\n",
    "clusters_df = df[modelo.labels_ != -1]"
   ]
  },
  {
   "cell_type": "code",
   "execution_count": null,
   "id": "c4af517b",
   "metadata": {},
   "outputs": [],
   "source": [
    "# visualizando outliers\n",
    "print(df[modelo.labels_ == -1].head(2).T)"
   ]
  },
  {
   "cell_type": "code",
   "execution_count": null,
   "id": "5a51ea2d",
   "metadata": {},
   "outputs": [],
   "source": [
    "colors = modelo.labels_\n",
    "colors_clusters = colors[colors != -1]\n",
    "colors_outliers = 'black'\n"
   ]
  },
  {
   "cell_type": "code",
   "execution_count": null,
   "id": "81dd9841",
   "metadata": {},
   "outputs": [],
   "source": [
    "# Gráfico dos clusters\n",
    "fig = plt.figure()\n",
    "ax = fig.add_axes([.1, .1, 1, 1])\n",
    "ax.scatter(clusters_df['LONGITUDE'], clusters_df['LATITUDE'], c=colors_clusters, edgecolors='black', s=50)\n",
    "ax.scatter(outliers_df['LONGITUDE'], outliers_df['LATITUDE'], c=colors_outliers, edgecolors='black', s=50)\n",
    "ax.set_xlabel('Longitude', family = 'Arial', fontsize = 9)\n",
    "ax.set_ylabel('Latitude', family = 'Arial', fontsize = 9)\n",
    "\n",
    "plt.title('Clusters')\n",
    "plt.grid(which='major', color='#cccccc', alpha=0.45)"
   ]
  },
  {
   "cell_type": "markdown",
   "id": "d6e77c52",
   "metadata": {},
   "source": [
    "# E se usarmos o K-Means"
   ]
  },
  {
   "cell_type": "code",
   "execution_count": null,
   "id": "a91f7d0c",
   "metadata": {},
   "outputs": [],
   "source": [
    "# https://scikit-learn.org/stable/modules/generated/sklearn.cluster.KMeans.html\n",
    "\n",
    "from sklearn.cluster import KMeans\n",
    "\n",
    "\n",
    "wcss = []\n",
    "\n",
    "for i in range(1, 12):\n",
    "    kmeans = KMeans(n_clusters = i, max_iter = 300, n_init = 10, random_state = 0)\n",
    "    kmeans.fit(dbscan_df)\n",
    "    wcss.append(kmeans.inertia_)\n",
    "    \n",
    "# Mostra o Gráfico\n",
    "plt.plot(range(1, 12), wcss)\n",
    "plt.title('O Metodo Elbow - Curva de Cotovelo')\n",
    "plt.xlabel('Numero de Clusters')\n",
    "plt.ylabel('WCSS') #within cluster sum of squares\n",
    "plt.show()"
   ]
  },
  {
   "cell_type": "code",
   "execution_count": null,
   "id": "3add022b",
   "metadata": {},
   "outputs": [],
   "source": [
    "Modelo_Kmeans = KMeans(n_clusters = 4, n_init = 10, random_state = 0   )\n",
    "\n",
    "Segmentos = Modelo_Kmeans.fit(dbscan_df)\n",
    "Segmentos\n"
   ]
  },
  {
   "cell_type": "code",
   "execution_count": null,
   "id": "00663fb1",
   "metadata": {},
   "outputs": [],
   "source": [
    "Segmentos.cluster_centers_"
   ]
  },
  {
   "cell_type": "code",
   "execution_count": null,
   "id": "432c86d8",
   "metadata": {},
   "outputs": [],
   "source": [
    "distance = Modelo_Kmeans.fit_transform(dbscan_df)\n",
    "distance"
   ]
  },
  {
   "cell_type": "code",
   "execution_count": null,
   "id": "d09cdbda",
   "metadata": {},
   "outputs": [],
   "source": [
    "labels = Modelo_Kmeans.labels_\n",
    "labels\n"
   ]
  },
  {
   "cell_type": "code",
   "execution_count": null,
   "id": "18733c08",
   "metadata": {},
   "outputs": [],
   "source": [
    "clusters = Modelo_Kmeans.fit_predict(dbscan_df)"
   ]
  },
  {
   "cell_type": "code",
   "execution_count": null,
   "id": "39333d99",
   "metadata": {},
   "outputs": [],
   "source": [
    "from collections import Counter\n",
    "\n",
    "Counter(clusters.tolist())\n"
   ]
  }
 ],
 "metadata": {
  "kernelspec": {
   "display_name": "Python 3 (ipykernel)",
   "language": "python",
   "name": "python3"
  },
  "language_info": {
   "codemirror_mode": {
    "name": "ipython",
    "version": 3
   },
   "file_extension": ".py",
   "mimetype": "text/x-python",
   "name": "python",
   "nbconvert_exporter": "python",
   "pygments_lexer": "ipython3",
   "version": "3.9.12"
  }
 },
 "nbformat": 4,
 "nbformat_minor": 5
}
