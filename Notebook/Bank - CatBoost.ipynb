{
 "cells": [
  {
   "cell_type": "markdown",
   "id": "9a811e6d",
   "metadata": {},
   "source": [
    "Os dados estão relacionados com campanhas de marketing direto de uma instituição bancária portuguesa. \n",
    "As campanhas de marketing foram baseadas em telefonemas.\n",
    "Muitas vezes, era necessário mais de um contato com o mesmo cliente, para acessar se o produto (depósito a prazo bancário) seria ('sim') ou não ('não') subscrito."
   ]
  },
  {
   "cell_type": "markdown",
   "id": "1a328b26",
   "metadata": {},
   "source": [
    "About this file\n",
    "Attribute Information:\n",
    "\n",
    "age (numeric)\n",
    "\n",
    "job : type of job (categorical:admin.','bluecollar','entrepreneur','housemaid','management','retired','selfemployed','services','student','technician','unemployed','unknown')\n",
    "\n",
    "marital : marital status (categorical:'divorced','married','single','unknown'; note: 'divorced' means divorced or widowed)\n",
    "\n",
    "education (categorical: 'basic.4y','basic.6y','basic.9y','high.school','illiterate','professional.course','university.degree','unknown')\n",
    "\n",
    "default: has credit in default? (categorical: 'no','yes','unknown') \n",
    "\n",
    "balance: average yearly balance, in euros (numeric)\n",
    "\n",
    "housing: has housing loan? (categorical: 'no','yes','unknown') Crédito Habitação\n",
    "\n",
    "loan: has personal loan? (categorical: 'no','yes','unknown')  Empréstimo Pessoal\n",
    "\n",
    "contact: contact communication type (categorical:'cellular','telephone')\n",
    "\n",
    "day: last contact day of the month (numeric 1 -31)\n",
    "\n",
    "month: last contact month of year (categorical: 'jan', 'feb','mar', …, 'nov', 'dec')\n",
    "\n",
    "duration: last contact duration, in seconds (numeric).\n",
    "Important note: this attribute highly affects the output target (e.g., ifduration=0 then y='no'). Yet, the duration is not known before a call is performed. Also, after the end of the call y is obviously known.Thus, this input should only be included for benchmark purposes and should be discarded if the intention is to have a realistic\n",
    "predictive model.\n",
    "\n",
    "campaign: number of contacts performed during this campaign and for this client (numeric, includes last contact)\n",
    "\n",
    "pdays: number of days that passed by after the client was last contacted from a previous campaign (numeric; 999 means client was not previously contacted)\n",
    "\n",
    "previous: number of contacts performed before this campaign and for this client (numeric)\n",
    "\n",
    "poutcome: outcome of the previous marketing campaign(categorical: 'failure','nonexistent','success')\n",
    "\n",
    "target: has the client subscribed a term deposit? (binary:\"yes\",\"no\")"
   ]
  },
  {
   "cell_type": "code",
   "execution_count": null,
   "id": "fa4e7b0c",
   "metadata": {},
   "outputs": [],
   "source": [
    "import numpy as np\n",
    "import matplotlib.pyplot as plt\n",
    "import pandas as pd\n",
    "import seaborn as sns\n",
    "import warnings\n",
    "warnings.filterwarnings('ignore')"
   ]
  },
  {
   "cell_type": "code",
   "execution_count": null,
   "id": "9eb9497e",
   "metadata": {},
   "outputs": [],
   "source": [
    "df=pd.read_csv('bank-full.csv')\n",
    "df.head(10).T"
   ]
  },
  {
   "cell_type": "code",
   "execution_count": null,
   "id": "c7ec10b2",
   "metadata": {},
   "outputs": [],
   "source": [
    "df.shape"
   ]
  },
  {
   "cell_type": "code",
   "execution_count": null,
   "id": "6bb43fe7",
   "metadata": {},
   "outputs": [],
   "source": [
    "df['Target'].unique()"
   ]
  },
  {
   "cell_type": "code",
   "execution_count": null,
   "id": "2b7adc87",
   "metadata": {},
   "outputs": [],
   "source": [
    "# Check data type\n",
    "# df.dtypes\n",
    "\n",
    "df.info()"
   ]
  },
  {
   "cell_type": "code",
   "execution_count": null,
   "id": "705b8a40",
   "metadata": {},
   "outputs": [],
   "source": [
    "# Avaliando a quantidade de NA´s (missing)\n",
    "# df.isnull().sum()\n",
    "pd.DataFrame(zip(df.isnull().sum(), df.isnull().sum()/len(df)), columns=['Count', 'Proportion'], index=df.columns)\n"
   ]
  },
  {
   "cell_type": "code",
   "execution_count": null,
   "id": "baac1f1d",
   "metadata": {},
   "outputs": [],
   "source": [
    "# check duplicates\n",
    "df.duplicated().sum()"
   ]
  },
  {
   "cell_type": "code",
   "execution_count": null,
   "id": "5597e51b",
   "metadata": {},
   "outputs": [],
   "source": [
    "df.describe()"
   ]
  },
  {
   "cell_type": "code",
   "execution_count": null,
   "id": "aa84d541",
   "metadata": {},
   "outputs": [],
   "source": [
    "# definindo uma função com vários aspectos de analise\n",
    "\n",
    "def resumetable(df):\n",
    "    print(f\"Dataset Shaoe: {df.shape}\")\n",
    "    summary = pd.DataFrame(df.dtypes, columns=['dtypes'])\n",
    "    summary = summary.reset_index()\n",
    "    summary['Name'] = summary['index']\n",
    "    summary = summary[['Name','dtypes']]\n",
    "    summary['Missing'] = df.isnull().sum().values\n",
    "    summary['Uniques'] = df.nunique().values\n",
    "    summary['First Value'] = df.loc[0].values\n",
    "    summary['Second Value'] = df.loc[1].values\n",
    "    return summary"
   ]
  },
  {
   "cell_type": "code",
   "execution_count": null,
   "id": "5039aa87",
   "metadata": {},
   "outputs": [],
   "source": [
    "result =resumetable(df)\n",
    "result\n"
   ]
  },
  {
   "cell_type": "code",
   "execution_count": null,
   "id": "dceb7434",
   "metadata": {},
   "outputs": [],
   "source": [
    "# Check how many categorical samples are there in column 'Target'\n",
    "df['Target'].value_counts()"
   ]
  },
  {
   "cell_type": "code",
   "execution_count": null,
   "id": "a9f4e8b4",
   "metadata": {},
   "outputs": [],
   "source": [
    "# Uma variável é a variável target:  \n",
    "df.Target.value_counts()  \n",
    "\n",
    "\n",
    "(df.Target.value_counts() / df.shape[0]) * 100"
   ]
  },
  {
   "cell_type": "code",
   "execution_count": null,
   "id": "da936d9e",
   "metadata": {},
   "outputs": [],
   "source": [
    "# Visualise count plot\n",
    "sns.countplot(data=df,x='Target')\n",
    "plt.show()"
   ]
  },
  {
   "cell_type": "code",
   "execution_count": null,
   "id": "f55b18b3",
   "metadata": {},
   "outputs": [],
   "source": [
    "# Variável age(idade)  com a variável target  (Objetivo)\n",
    "import matplotlib.pyplot as plt  \n",
    "sns.boxplot(x='Target', y='age', data=df)\n",
    "plt.title('Distribuição de age por classe da variável target')\n",
    "plt.show()"
   ]
  },
  {
   "cell_type": "code",
   "execution_count": null,
   "id": "bbcbf19c",
   "metadata": {},
   "outputs": [],
   "source": [
    "# Verificando a variável balance\n",
    "\n",
    "sns.histplot(data=df, x=\"balance\");"
   ]
  },
  {
   "cell_type": "code",
   "execution_count": null,
   "id": "10d81367",
   "metadata": {},
   "outputs": [],
   "source": [
    "# Variável balance  com a variável target  (Objetivo)\n",
    "import matplotlib.pyplot as plt  \n",
    "sns.boxplot(x='Target', y='balance', data=df)\n",
    "plt.title('Distribuição de balance por classe da variável target')\n",
    "plt.show()"
   ]
  },
  {
   "cell_type": "code",
   "execution_count": null,
   "id": "ffdc17b3",
   "metadata": {},
   "outputs": [],
   "source": [
    "# Transformando a variável \"balance\" em  categorias\n",
    "\n",
    "balance_cat = []\n",
    "for dados in df['balance']:\n",
    "    if dados <= 0:\n",
    "        balance_cat.append('0')\n",
    "    elif dados <= 500:\n",
    "        balance_cat.append('1')\n",
    "    elif dados <= 2000:\n",
    "        balance_cat.append('2')\n",
    "    else:\n",
    "        balance_cat.append(\"3\")#atribuindo a nova variavel ao conjunto de dados\n",
    "df['balance_cat'] = balance_cat\n",
    "#resultado\n",
    "df.head().T\n",
    "# mudar o formato da variável  \n",
    "df['balance_cat'] =df['balance_cat'].astype(int)"
   ]
  },
  {
   "cell_type": "code",
   "execution_count": null,
   "id": "a3d72fc4",
   "metadata": {},
   "outputs": [],
   "source": [
    "# comparison between age_cat and target\n",
    "\n",
    "balance_cat= pd.crosstab(df['Target'],df['balance_cat'])\n",
    "balance_cat.div(balance_cat.sum(1).astype(float), axis=0).plot(kind=\"bar\", stacked=True, figsize=(6, 6));"
   ]
  },
  {
   "cell_type": "code",
   "execution_count": null,
   "id": "a14cb9fc",
   "metadata": {},
   "outputs": [],
   "source": [
    "# Variável duration  com a variável target  (Objetivo)\n",
    "import matplotlib.pyplot as plt  \n",
    "sns.boxplot(x='Target', y='duration', data=df)\n",
    "plt.title('Distribuição de duration por classe da variável target')\n",
    "plt.show()"
   ]
  },
  {
   "cell_type": "code",
   "execution_count": null,
   "id": "f20f661c",
   "metadata": {},
   "outputs": [],
   "source": [
    "# Variável campaign  com a variável target  (Objetivo)\n",
    "import matplotlib.pyplot as plt  \n",
    "sns.boxplot(x='Target', y='campaign', data=df)\n",
    "plt.title('Distribuição campaign por classe da variável target')\n",
    "plt.show()"
   ]
  },
  {
   "cell_type": "code",
   "execution_count": null,
   "id": "1b44d4f1",
   "metadata": {},
   "outputs": [],
   "source": [
    "# Variável pdays  com a variável target  (Objetivo)\n",
    "import matplotlib.pyplot as plt  \n",
    "sns.boxplot(x='Target', y='pdays', data=df)\n",
    "plt.title('Distribuição de pdays por classe da variável target')\n",
    "plt.show()"
   ]
  },
  {
   "cell_type": "code",
   "execution_count": null,
   "id": "5b02370f",
   "metadata": {},
   "outputs": [],
   "source": [
    "# comparison between job  and target\n",
    "\n",
    "Job= pd.crosstab(df['Target'],df['job'])\n",
    "Job.div(Job.sum(1).astype(float), axis=0).plot(kind=\"bar\", stacked=True, figsize=(6, 6));"
   ]
  },
  {
   "cell_type": "code",
   "execution_count": null,
   "id": "98635702",
   "metadata": {},
   "outputs": [],
   "source": [
    "# comparison between marital  and target\n",
    "\n",
    "Marital= pd.crosstab(df['Target'],df['marital'])\n",
    "Marital.div(Job.sum(1).astype(float), axis=0).plot(kind=\"bar\", stacked=True, figsize=(6, 6));"
   ]
  },
  {
   "cell_type": "code",
   "execution_count": null,
   "id": "171bd23a",
   "metadata": {},
   "outputs": [],
   "source": [
    "# comparison between job  and target\n",
    "\n",
    "Education= pd.crosstab(df['Target'],df['education'])\n",
    "Education.div(Education.sum(1).astype(float), axis=0).plot(kind=\"bar\", stacked=True, figsize=(6, 6));"
   ]
  },
  {
   "cell_type": "markdown",
   "id": "f3e6916e",
   "metadata": {},
   "source": [
    "https://catboost.ai/en/docs/concepts/python-reference_catboostclassifier"
   ]
  },
  {
   "cell_type": "markdown",
   "id": "9e9d758d",
   "metadata": {},
   "source": [
    "Ensemble"
   ]
  },
  {
   "cell_type": "code",
   "execution_count": null,
   "id": "425a224a",
   "metadata": {},
   "outputs": [],
   "source": [
    "# Instalando\n",
    "!pip install catboost"
   ]
  },
  {
   "cell_type": "code",
   "execution_count": null,
   "id": "1fa3c5d5",
   "metadata": {},
   "outputs": [],
   "source": [
    "# importando bibliotecas \n",
    "import statsmodels.api as sm\n",
    "from catboost import CatBoostClassifier\n",
    "from scipy import stats\n",
    "from sklearn.model_selection import train_test_split\n",
    "from sklearn.metrics import f1_score, accuracy_score\n"
   ]
  },
  {
   "cell_type": "code",
   "execution_count": null,
   "id": "f025e72c",
   "metadata": {},
   "outputs": [],
   "source": [
    "# Transformando a variável  target\n",
    "\n",
    "df['y'] = df['Target'].map({'no': 0, 'yes': 1}).astype(int)\n",
    "\n",
    "df.drop(['Target'], axis=1, inplace=True)"
   ]
  },
  {
   "cell_type": "code",
   "execution_count": null,
   "id": "5322efa5",
   "metadata": {},
   "outputs": [],
   "source": [
    "df.describe()"
   ]
  },
  {
   "cell_type": "code",
   "execution_count": null,
   "id": "ad6348c3",
   "metadata": {},
   "outputs": [],
   "source": [
    " \n",
    "X = df.loc[:, df.columns!='y']\n",
    "y = df.loc[:, 'y']\n"
   ]
  },
  {
   "cell_type": "code",
   "execution_count": null,
   "id": "eed2a862",
   "metadata": {},
   "outputs": [],
   "source": [
    " y"
   ]
  },
  {
   "cell_type": "code",
   "execution_count": null,
   "id": "3a8c74be",
   "metadata": {},
   "outputs": [],
   "source": [
    "# seoparando amostra de treino e teste\n",
    "\n",
    "X_train, X_test, y_train, y_test  = train_test_split(X, y, test_size=0.30, random_state=17)"
   ]
  },
  {
   "cell_type": "code",
   "execution_count": null,
   "id": "b3e97cf5",
   "metadata": {},
   "outputs": [],
   "source": [
    "X_train.head()"
   ]
  },
  {
   "cell_type": "code",
   "execution_count": null,
   "id": "a53ec755",
   "metadata": {},
   "outputs": [],
   "source": [
    "y_train"
   ]
  },
  {
   "cell_type": "code",
   "execution_count": null,
   "id": "a3799001",
   "metadata": {},
   "outputs": [],
   "source": [
    "\n",
    "cat_features = ['job' , 'marital','education','default', 'housing', 'loan', 'contact',  'month', 'poutcome']\n"
   ]
  },
  {
   "cell_type": "code",
   "execution_count": null,
   "id": "92c6c65d",
   "metadata": {},
   "outputs": [],
   "source": [
    "from catboost import CatBoostClassifier\n",
    " \n",
    "model_catb = CatBoostClassifier(task_type='CPU', iterations =100, random_state=17, eval_metric ='Accuracy', verbose=5)\n"
   ]
  },
  {
   "cell_type": "code",
   "execution_count": null,
   "id": "7dbdadb8",
   "metadata": {},
   "outputs": [],
   "source": [
    "# model.fit(X_train, y_train, cat_features=cat_features, plot=True )\n",
    "\n",
    "model_catb.fit(X_train, y_train, cat_features=cat_features, plot=False , eval_set=(X_test, y_test))"
   ]
  },
  {
   "cell_type": "code",
   "execution_count": null,
   "id": "579b1462",
   "metadata": {},
   "outputs": [],
   "source": []
  },
  {
   "cell_type": "code",
   "execution_count": null,
   "id": "ec9dbe16",
   "metadata": {},
   "outputs": [],
   "source": [
    "# Get predicted classes\n",
    "# preds_class = model_catb.predict(X_test, prediction_type='RawFormulaVal')\n",
    "preds_class = model_catb.predict(X_test)"
   ]
  },
  {
   "cell_type": "code",
   "execution_count": null,
   "id": "6a3349e9",
   "metadata": {},
   "outputs": [],
   "source": [
    "preds_class"
   ]
  },
  {
   "cell_type": "code",
   "execution_count": null,
   "id": "0ea475c4",
   "metadata": {},
   "outputs": [],
   "source": []
  },
  {
   "cell_type": "code",
   "execution_count": null,
   "id": "14f53cec",
   "metadata": {},
   "outputs": [],
   "source": [
    "print(model_catb.predict_proba(X_test))"
   ]
  },
  {
   "cell_type": "code",
   "execution_count": null,
   "id": "c33f5f94",
   "metadata": {},
   "outputs": [],
   "source": [
    "# Predizendo as probabilidades\n",
    "yhat = model_catb.predict_proba(X_test) #prediction\n",
    "yhat"
   ]
  },
  {
   "cell_type": "code",
   "execution_count": null,
   "id": "17de813b",
   "metadata": {},
   "outputs": [],
   "source": [
    "y_pred_prob = yhat[:, 1] # manter somente para a classe positiva\n",
    "y_pred_prob"
   ]
  },
  {
   "cell_type": "code",
   "execution_count": null,
   "id": "9289a364",
   "metadata": {},
   "outputs": [],
   "source": [
    "from sklearn.metrics import confusion_matrix\n",
    "\n",
    "# Matriz de Confusão\n",
    "\n",
    "confusion_matrix = confusion_matrix(y_test, model_catb.predict(X_test))\n",
    "confusion_matrix"
   ]
  },
  {
   "cell_type": "code",
   "execution_count": null,
   "id": "28e82c76",
   "metadata": {},
   "outputs": [],
   "source": [
    "from sklearn.metrics import classification_report\n",
    "\n",
    "print(classification_report(y_test, model_catb.predict(X_test)))\n",
    "\n",
    "# Resultado do classification_report:"
   ]
  },
  {
   "cell_type": "code",
   "execution_count": null,
   "id": "ff1d980c",
   "metadata": {},
   "outputs": [],
   "source": [
    "#converting probabilities into 0 or 1\n",
    "for i in range(0,len(X_test)):\n",
    "      if y_pred_prob[i]>0.3:    #setting threshold to 0.5  e troque para 0.3 (Veja o que acontece com a matriz de confusão!!!)\n",
    "         y_pred_prob[i]=1\n",
    "      else:\n",
    "           y_pred_prob[i]=0"
   ]
  },
  {
   "cell_type": "code",
   "execution_count": null,
   "id": "2ee022d4",
   "metadata": {},
   "outputs": [],
   "source": [
    "y_pred_prob"
   ]
  },
  {
   "cell_type": "code",
   "execution_count": null,
   "id": "f8e4af25",
   "metadata": {},
   "outputs": [],
   "source": [
    "from sklearn.metrics import confusion_matrix\n",
    "\n",
    "# Matriz de Confusão\n",
    "\n",
    "confusion_matrix = confusion_matrix(y_test, y_pred_prob)\n",
    "confusion_matrix"
   ]
  },
  {
   "cell_type": "code",
   "execution_count": null,
   "id": "4dd45e78",
   "metadata": {},
   "outputs": [],
   "source": []
  },
  {
   "cell_type": "code",
   "execution_count": null,
   "id": "5ea7b4f2",
   "metadata": {},
   "outputs": [],
   "source": [
    "from catboost import CatBoostClassifier\n",
    "\n",
    "clf = CatBoostClassifier(\n",
    "    iterations=100, \n",
    "    learning_rate=0.8, eval_metric ='Accuracy'\n",
    "    #loss_function='CrossEntropy'\n",
    ")\n"
   ]
  },
  {
   "cell_type": "code",
   "execution_count": null,
   "id": "6fc68069",
   "metadata": {},
   "outputs": [],
   "source": [
    "\n",
    "\n",
    "clf.fit(X_train, y_train, \n",
    "        cat_features=cat_features, \n",
    "        eval_set=(X_test, y_test), \n",
    "        verbose=10\n",
    ")\n"
   ]
  },
  {
   "cell_type": "code",
   "execution_count": null,
   "id": "857482f1",
   "metadata": {},
   "outputs": [],
   "source": [
    "print('CatBoost model is fitted: ' + str(clf.is_fitted()))\n",
    "print('CatBoost model parameters:')\n",
    "print(clf.get_params())\n"
   ]
  },
  {
   "cell_type": "code",
   "execution_count": null,
   "id": "e7b09496",
   "metadata": {},
   "outputs": [],
   "source": [
    "print(clf.predict_proba(X_test))"
   ]
  },
  {
   "cell_type": "code",
   "execution_count": null,
   "id": "f2a34b78",
   "metadata": {},
   "outputs": [],
   "source": [
    "print(clf.predict(X_test))"
   ]
  },
  {
   "cell_type": "code",
   "execution_count": null,
   "id": "ce17f819",
   "metadata": {},
   "outputs": [],
   "source": [
    "from sklearn.metrics import confusion_matrix\n",
    "\n",
    "# Matriz de Confusão\n",
    "\n",
    "confusion_matrix = confusion_matrix(y_test, clf.predict(X_test))\n",
    "confusion_matrix"
   ]
  },
  {
   "cell_type": "code",
   "execution_count": null,
   "id": "4bf7c572",
   "metadata": {},
   "outputs": [],
   "source": [
    "from sklearn.metrics import classification_report\n",
    "\n",
    "print(classification_report(y_test, clf.predict(X_test)))\n",
    "\n",
    "# Resultado do classification_report:"
   ]
  },
  {
   "cell_type": "code",
   "execution_count": null,
   "id": "cc0342ad",
   "metadata": {},
   "outputs": [],
   "source": [
    "clf = CatBoostClassifier(\n",
    "    iterations=97,\n",
    "    random_seed=17,\n",
    "    learning_rate=1,\n",
    "    custom_loss=['AUC', 'Accuracy']\n",
    ")"
   ]
  },
  {
   "cell_type": "code",
   "execution_count": null,
   "id": "aa746c2f",
   "metadata": {},
   "outputs": [],
   "source": [
    "clf.fit(\n",
    "    X_train, y_train,\n",
    "    cat_features=cat_features,\n",
    "    eval_set=(X_test, y_test),\n",
    "    verbose=False,\n",
    "    plot=True\n",
    ")"
   ]
  },
  {
   "cell_type": "code",
   "execution_count": null,
   "id": "5b03b8d9",
   "metadata": {},
   "outputs": [],
   "source": [
    "\n"
   ]
  }
 ],
 "metadata": {
  "kernelspec": {
   "display_name": "Python 3 (ipykernel)",
   "language": "python",
   "name": "python3"
  },
  "language_info": {
   "codemirror_mode": {
    "name": "ipython",
    "version": 3
   },
   "file_extension": ".py",
   "mimetype": "text/x-python",
   "name": "python",
   "nbconvert_exporter": "python",
   "pygments_lexer": "ipython3",
   "version": "3.9.12"
  }
 },
 "nbformat": 4,
 "nbformat_minor": 5
}
