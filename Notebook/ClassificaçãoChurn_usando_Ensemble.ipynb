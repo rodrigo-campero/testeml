{
 "cells": [
  {
   "cell_type": "markdown",
   "metadata": {
    "id": "nr13J8Thvm_t"
   },
   "source": [
    "# Ensemble\n",
    "\n",
    "### Classificar se uma pessoa vai fechar a conta no banco\n",
    "Dataset: https://www.kaggle.com/shrutimechlearn/churn-modelling"
   ]
  },
  {
   "cell_type": "code",
   "execution_count": null,
   "metadata": {},
   "outputs": [],
   "source": [
    "# Importar as bibliotecas\n",
    "\n",
    "import pandas as pd\n",
    "import numpy as np\n",
    "import seaborn as sb\n",
    "import matplotlib.pyplot as plt\n",
    "%matplotlib inline"
   ]
  },
  {
   "cell_type": "markdown",
   "metadata": {},
   "source": [
    "Precision (Positive Predictive Value)\n",
    "Recall (True Positive Rate)\n",
    "F1  is the harmonic mean of precision and recall\n",
    "Support The number of occurrences of each label in y_true\n",
    "\n",
    "Precision (Positive Predictive Value) --> tp / (tp + fp) \n",
    "Recall (True Positive Rate) --> tp / (tp + fn)\n"
   ]
  },
  {
   "cell_type": "code",
   "execution_count": null,
   "metadata": {
    "colab": {
     "base_uri": "https://localhost:8080/",
     "height": 250
    },
    "id": "MemV8EqGZ-nZ",
    "outputId": "00fc9c39-10e7-45a5-baa5-37554a03ace7"
   },
   "outputs": [],
   "source": [
    "\n",
    "df = pd.read_csv('Churn_Modelling.csv')\n",
    "df.head()"
   ]
  },
  {
   "cell_type": "code",
   "execution_count": null,
   "metadata": {
    "colab": {
     "base_uri": "https://localhost:8080/"
    },
    "id": "neJc_P8A88WI",
    "outputId": "b24b8f0d-00eb-4508-cef7-75078e061001"
   },
   "outputs": [],
   "source": [
    "df.info()\n"
   ]
  },
  {
   "cell_type": "code",
   "execution_count": null,
   "metadata": {},
   "outputs": [],
   "source": [
    "df = df.drop(['RowNumber', 'CustomerId', 'Surname'], axis = 1)\n",
    "df.head()"
   ]
  },
  {
   "cell_type": "code",
   "execution_count": null,
   "metadata": {},
   "outputs": [],
   "source": [
    " "
   ]
  },
  {
   "cell_type": "code",
   "execution_count": null,
   "metadata": {},
   "outputs": [],
   "source": [
    "df.describe().T"
   ]
  },
  {
   "cell_type": "code",
   "execution_count": null,
   "metadata": {},
   "outputs": [],
   "source": [
    "# Avaliando a quantidade de NA´s (missing)\n",
    "pd.DataFrame(zip(df.isnull().sum(), df.isnull().sum()/len(df)), columns=['Count', 'Proportion'], index=df.columns)\n"
   ]
  },
  {
   "cell_type": "code",
   "execution_count": null,
   "metadata": {},
   "outputs": [],
   "source": [
    "# Uma variável é a variável target: \"Exited\" : Quantos Churn\n",
    "(df.Exited.value_counts() / df.shape[0]) * 100"
   ]
  },
  {
   "cell_type": "code",
   "execution_count": null,
   "metadata": {},
   "outputs": [],
   "source": [
    "sb.histplot(data=df, x=\"Age\");"
   ]
  },
  {
   "cell_type": "code",
   "execution_count": null,
   "metadata": {},
   "outputs": [],
   "source": [
    "# Variável Age\n",
    "sb.boxplot(x='Exited', y='Age', data=df)\n",
    "plt.title('Distribuição de Age por Churn')\n",
    "plt.show()"
   ]
  },
  {
   "cell_type": "code",
   "execution_count": null,
   "metadata": {
    "colab": {
     "base_uri": "https://localhost:8080/",
     "height": 206
    },
    "id": "BuVOh4uvnwWX",
    "outputId": "364a0a60-de91-4743-a9c7-ec2c8526dfd0"
   },
   "outputs": [],
   "source": []
  },
  {
   "cell_type": "code",
   "execution_count": null,
   "metadata": {
    "colab": {
     "base_uri": "https://localhost:8080/",
     "height": 279
    },
    "id": "Sg5pXCvb86EL",
    "outputId": "68d1d453-12ae-4a5d-a93f-a7a71ebbb6b0"
   },
   "outputs": [],
   "source": [
    "sb.histplot(data=df, x=\"CreditScore\");"
   ]
  },
  {
   "cell_type": "code",
   "execution_count": null,
   "metadata": {},
   "outputs": [],
   "source": [
    "sb.boxplot(x='Exited', y='CreditScore', data=df, palette='hls');"
   ]
  },
  {
   "cell_type": "code",
   "execution_count": null,
   "metadata": {},
   "outputs": [],
   "source": [
    "sb.histplot(data=df, x=\"Tenure\");"
   ]
  },
  {
   "cell_type": "code",
   "execution_count": null,
   "metadata": {},
   "outputs": [],
   "source": [
    "sb.boxplot(x='Exited', y='Tenure', data=df, palette='hls');"
   ]
  },
  {
   "cell_type": "code",
   "execution_count": null,
   "metadata": {},
   "outputs": [],
   "source": [
    "# comparison between HasCrCard and target\n",
    "\n",
    "Tenure_cat = pd.crosstab(df['Exited'],df['Tenure'])\n",
    "Tenure_cat.div(Tenure_cat.sum(1).astype(float), axis=0).plot(kind=\"bar\", stacked=True, figsize=(6, 6));"
   ]
  },
  {
   "cell_type": "code",
   "execution_count": null,
   "metadata": {},
   "outputs": [],
   "source": [
    "sb.histplot(data=df, x=\"Balance\");"
   ]
  },
  {
   "cell_type": "code",
   "execution_count": null,
   "metadata": {},
   "outputs": [],
   "source": [
    "sb.boxplot(x='Exited', y='Balance', data=df, palette='hls');"
   ]
  },
  {
   "cell_type": "code",
   "execution_count": null,
   "metadata": {},
   "outputs": [],
   "source": [
    "sb.boxplot(x='Exited', y='NumOfProducts', data=df, palette='hls');"
   ]
  },
  {
   "cell_type": "code",
   "execution_count": null,
   "metadata": {},
   "outputs": [],
   "source": [
    "# comparison between NumOfProducts and target\n",
    "\n",
    "NumOfProducts_cat = pd.crosstab(df['Exited'],df['NumOfProducts'])\n",
    "NumOfProducts_cat.div(NumOfProducts_cat.sum(1).astype(float), axis=0).plot(kind=\"bar\", stacked=True, figsize=(6, 6));"
   ]
  },
  {
   "cell_type": "code",
   "execution_count": null,
   "metadata": {},
   "outputs": [],
   "source": [
    "# "
   ]
  },
  {
   "cell_type": "code",
   "execution_count": null,
   "metadata": {},
   "outputs": [],
   "source": [
    "sb.histplot(data=df, x=\"EstimatedSalary\");"
   ]
  },
  {
   "cell_type": "code",
   "execution_count": null,
   "metadata": {},
   "outputs": [],
   "source": [
    "sb.boxplot(x='Exited', y='EstimatedSalary', data=df, palette='hls');"
   ]
  },
  {
   "cell_type": "code",
   "execution_count": null,
   "metadata": {},
   "outputs": [],
   "source": [
    "# comparison between Gender and target\n",
    "\n",
    "Gender_cat = pd.crosstab(df['Exited'],df['Gender'])\n",
    "Gender_cat.div(Gender_cat.sum(1).astype(float), axis=0).plot(kind=\"bar\", stacked=True, figsize=(6, 6));"
   ]
  },
  {
   "cell_type": "code",
   "execution_count": null,
   "metadata": {},
   "outputs": [],
   "source": [
    "# comparison between Geography and target\n",
    "\n",
    "Geography_cat = pd.crosstab(df['Exited'],df['Geography'])\n",
    "Geography_cat.div(Geography_cat.sum(1).astype(float), axis=0).plot(kind=\"bar\", stacked=True, figsize=(6, 6));"
   ]
  },
  {
   "cell_type": "code",
   "execution_count": null,
   "metadata": {},
   "outputs": [],
   "source": [
    "# comparison between IsActiveMember and target\n",
    "\n",
    "IsActiveMember_cat = pd.crosstab(df['Exited'],df['IsActiveMember'])\n",
    "IsActiveMember_cat.div(IsActiveMember_cat.sum(1).astype(float), axis=0).plot(kind=\"bar\", stacked=True, figsize=(6, 6));"
   ]
  },
  {
   "cell_type": "code",
   "execution_count": null,
   "metadata": {},
   "outputs": [],
   "source": [
    "# comparison between HasCrCard and target\n",
    "\n",
    "HasCrCard_cat = pd.crosstab(df['Exited'],df['HasCrCard'])\n",
    "HasCrCard_cat.div(HasCrCard_cat.sum(1).astype(float), axis=0).plot(kind=\"bar\", stacked=True, figsize=(6, 6));"
   ]
  },
  {
   "cell_type": "code",
   "execution_count": null,
   "metadata": {
    "colab": {
     "base_uri": "https://localhost:8080/"
    },
    "id": "uzuv4YLgpU1b",
    "outputId": "97587324-a93d-4d32-a791-e2f26814dbe7"
   },
   "outputs": [],
   "source": [
    "df.info()"
   ]
  },
  {
   "cell_type": "code",
   "execution_count": null,
   "metadata": {
    "colab": {
     "base_uri": "https://localhost:8080/"
    },
    "id": "x2pgvEyrpNTt",
    "outputId": "55260373-388d-42c7-bebb-a6b3e9b93bca"
   },
   "outputs": [],
   "source": [
    "# uma opção \n",
    "\n",
    "# df['Balance'] = df['Balance'].astype(int)\n",
    "# df['EstimatedSalary'] = df['EstimatedSalary'].astype(int)\n",
    "\n",
    "df.info()"
   ]
  },
  {
   "cell_type": "code",
   "execution_count": null,
   "metadata": {},
   "outputs": [],
   "source": [
    "# transformando as variveis categoricas \n",
    "\n",
    "baseline_df =pd.get_dummies(df, drop_first=True)\n",
    "\n",
    "print(baseline_df)"
   ]
  },
  {
   "cell_type": "code",
   "execution_count": null,
   "metadata": {},
   "outputs": [],
   "source": [
    "baseline_df.info()"
   ]
  },
  {
   "cell_type": "code",
   "execution_count": null,
   "metadata": {},
   "outputs": [],
   "source": []
  },
  {
   "cell_type": "code",
   "execution_count": null,
   "metadata": {
    "colab": {
     "base_uri": "https://localhost:8080/",
     "height": 206
    },
    "id": "6BEGP5OR-aAI",
    "outputId": "8baef6e4-a6e6-4846-b22e-019165f8bb93"
   },
   "outputs": [],
   "source": []
  },
  {
   "cell_type": "code",
   "execution_count": null,
   "metadata": {},
   "outputs": [],
   "source": [
    "# usando diferentes classificadores \n",
    "# 1º: Separar o conjunto em variavel resposta e variaveis de treinamento\n"
   ]
  },
  {
   "cell_type": "code",
   "execution_count": null,
   "metadata": {
    "colab": {
     "base_uri": "https://localhost:8080/"
    },
    "id": "YnyG5_pgcC35",
    "outputId": "bbf4b271-9959-4e2e-f970-f2e2e23bec0c"
   },
   "outputs": [],
   "source": [
    "X = baseline_df[baseline_df.columns.difference(['Exited'])].values\n",
    "\n",
    "print(X[0])\n",
    "y = baseline_df['Exited'].values\n",
    "print(y)"
   ]
  },
  {
   "cell_type": "code",
   "execution_count": null,
   "metadata": {},
   "outputs": [],
   "source": [
    "from sklearn.model_selection import train_test_split\n",
    "\n",
    "# Dividindo os dados em treino e teste:\n",
    "X_treino, X_teste, y_treino, y_teste = train_test_split(baseline_df.drop('Exited',axis=1),baseline_df['Exited'],test_size=0.3, random_state=17)\n"
   ]
  },
  {
   "cell_type": "code",
   "execution_count": null,
   "metadata": {},
   "outputs": [],
   "source": [
    "X_treino.describe().T"
   ]
  },
  {
   "cell_type": "code",
   "execution_count": null,
   "metadata": {},
   "outputs": [],
   "source": [
    " "
   ]
  },
  {
   "cell_type": "code",
   "execution_count": null,
   "metadata": {},
   "outputs": [],
   "source": [
    "X_treino.shape, y_treino.shape"
   ]
  },
  {
   "cell_type": "code",
   "execution_count": null,
   "metadata": {
    "id": "zxgKX1dZf7R1"
   },
   "outputs": [],
   "source": []
  },
  {
   "cell_type": "code",
   "execution_count": null,
   "metadata": {},
   "outputs": [],
   "source": [
    "# Feature Scaling \n",
    "# Only on Independent Variable \n",
    "\n",
    "from sklearn.preprocessing import MinMaxScaler\n",
    "\n",
    "cols =X_treino.columns\n",
    "\n",
    "MinMax = MinMaxScaler()\n",
    "X_treino = MinMax.fit_transform(X_treino)\n",
    "X_teste = MinMax.fit_transform(X_teste)\n",
    "X_treino = pd.DataFrame(X_treino, columns=[cols])\n",
    "X_treino.head()\n"
   ]
  },
  {
   "cell_type": "code",
   "execution_count": null,
   "metadata": {},
   "outputs": [],
   "source": []
  },
  {
   "cell_type": "markdown",
   "metadata": {
    "id": "h15jf_6PpUVL"
   },
   "source": [
    "## Voting Ensemble"
   ]
  },
  {
   "cell_type": "markdown",
   "metadata": {},
   "source": []
  },
  {
   "cell_type": "code",
   "execution_count": null,
   "metadata": {
    "colab": {
     "base_uri": "https://localhost:8080/"
    },
    "id": "JEw2vpjwcgJF",
    "outputId": "bf546bd5-f3f2-4817-877d-1fb6b969f2a8"
   },
   "outputs": [],
   "source": [
    "# Documentação de referência: https://scikit-learn.org/stable/modules/generated/sklearn.neighbors.KNeighborsClassifier.html\n",
    "\n",
    "# Documentação de referência: https://scikit-learn.org/stable/modules/generated/sklearn.svm.LinearSVC.html\n",
    "\n",
    "# Documentação de referência: https://scikit-learn.org/stable/modules/generated/sklearn.naive_bayes.CategoricalNB.html\n",
    "\n",
    "\n",
    "from sklearn.tree import DecisionTreeClassifier\n",
    "from sklearn.neighbors import KNeighborsClassifier\n",
    "from sklearn.naive_bayes import CategoricalNB\n",
    "from sklearn.svm import LinearSVC\n",
    "from sklearn.naive_bayes import GaussianNB\n",
    "\n",
    "# Documentação de referência: https://scikit-learn.org/stable/modules/generated/sklearn.ensemble.VotingClassifier.html\n",
    "\n",
    "from sklearn.ensemble import VotingClassifier\n",
    "\n"
   ]
  },
  {
   "cell_type": "code",
   "execution_count": null,
   "metadata": {},
   "outputs": [],
   "source": [
    "knn = KNeighborsClassifier(n_neighbors = 5)\n",
    "decision_tree = DecisionTreeClassifier(max_depth=4, criterion='gini', min_samples_split=100)\n",
    "nbCat = CategoricalNB()\n",
    "svm = LinearSVC(max_iter=5000)\n",
    "nbGau = GaussianNB()\n",
    "\n",
    "voting_clf = VotingClassifier(\n",
    "    estimators=[('dt', decision_tree), ('knn', knn), ('nb', nbGau), ('svm', svm)], \n",
    "    n_jobs=-1)\n",
    "\n",
    "voting_clf.fit(X_treino, y_treino)\n",
    "\n",
    "\n",
    "#voting{‘hard’, ‘soft’}, default=’hard’\n",
    "# If ‘hard’, uses predicted class labels for majority rule voting.\n",
    "# Else if ‘soft’, predicts the class label based on the argmax of the sums of the predicted probabilities,\n",
    "# which is recommended for an ensemble of well-calibrated classifiers."
   ]
  },
  {
   "cell_type": "code",
   "execution_count": null,
   "metadata": {
    "colab": {
     "base_uri": "https://localhost:8080/"
    },
    "id": "eWm2pt9Od6UP",
    "outputId": "64108339-bf7e-4a78-b513-74c352967b20"
   },
   "outputs": [],
   "source": [
    "from sklearn.metrics import accuracy_score\n",
    "\n",
    "for clf in (decision_tree, knn,  nbGau, svm , voting_clf):\n",
    "  clf.fit(X_treino, y_treino)\n",
    "  y_predito = clf.predict(X_teste)\n",
    "  acuracia = accuracy_score(y_teste, y_predito)\n",
    "  print(\"Classificador {} tem acurácia de {}\".format(clf.__class__.__name__, acuracia))"
   ]
  },
  {
   "cell_type": "code",
   "execution_count": null,
   "metadata": {},
   "outputs": [],
   "source": [
    "# importância das variáveis na árvore de decisão\n",
    "\n",
    "for feature,importancia in zip(X_treino.columns,decision_tree.feature_importances_):\n",
    "    print(\"{}:{}\".format(feature, importancia))"
   ]
  },
  {
   "cell_type": "code",
   "execution_count": null,
   "metadata": {},
   "outputs": [],
   "source": []
  },
  {
   "cell_type": "markdown",
   "metadata": {
    "id": "H_dfjNSy0Va3"
   },
   "source": [
    "## Bagging (Bootstrap aggregation)"
   ]
  },
  {
   "cell_type": "code",
   "execution_count": null,
   "metadata": {
    "colab": {
     "base_uri": "https://localhost:8080/"
    },
    "id": "Cjw-8aEq0brx",
    "outputId": "16d1a901-d31b-4658-cfeb-f2760b682974"
   },
   "outputs": [],
   "source": [
    "# Documentação https://scikit-learn.org/stable/modules/generated/sklearn.ensemble.BaggingClassifier.html\n",
    "from sklearn.ensemble import BaggingClassifier\n",
    "\n",
    "bagging = BaggingClassifier(DecisionTreeClassifier(splitter='random'), n_estimators=500, max_samples=300, )\n",
    "bagging.fit(X_treino, y_treino)"
   ]
  },
  {
   "cell_type": "code",
   "execution_count": null,
   "metadata": {
    "colab": {
     "base_uri": "https://localhost:8080/"
    },
    "id": "QLIHistu0z1P",
    "outputId": "876b1e3b-176a-43b4-f807-eedbd01ba70b"
   },
   "outputs": [],
   "source": [
    "y_predito = bagging.predict(X_teste)\n",
    "accuracy_score(y_teste, y_predito)"
   ]
  },
  {
   "cell_type": "code",
   "execution_count": null,
   "metadata": {},
   "outputs": [],
   "source": [
    "from sklearn.metrics import confusion_matrix\n",
    "\n",
    "\n",
    "# Matriz de Confusão\n",
    "\n",
    "confusion_matrix = confusion_matrix(y_teste, y_predito)\n",
    "confusion_matrix\n"
   ]
  },
  {
   "cell_type": "code",
   "execution_count": null,
   "metadata": {},
   "outputs": [],
   "source": [
    "from sklearn.metrics import classification_report\n",
    "\n",
    "print(classification_report(y_teste, y_predito))\n",
    "\n",
    "# Resultado do classification_report:"
   ]
  },
  {
   "cell_type": "markdown",
   "metadata": {
    "id": "cnD_n0Hw1nCW"
   },
   "source": [
    "## Random Forests"
   ]
  },
  {
   "cell_type": "code",
   "execution_count": null,
   "metadata": {
    "colab": {
     "base_uri": "https://localhost:8080/"
    },
    "id": "wmYFICQZ1tXY",
    "outputId": "42fbabc2-37f1-44e0-b7f0-c1fe6c35a791"
   },
   "outputs": [],
   "source": [
    "# Documentação https://scikit-learn.org/stable/modules/generated/sklearn.ensemble.RandomForestClassifier.html\n",
    "from sklearn.ensemble import RandomForestClassifier\n",
    "\n",
    "random_forest = RandomForestClassifier(n_estimators=500, max_depth=4, min_samples_split=100, random_state=17, n_jobs=-1)\n",
    "random_forest.fit(X_treino, y_treino)"
   ]
  },
  {
   "cell_type": "code",
   "execution_count": null,
   "metadata": {
    "colab": {
     "base_uri": "https://localhost:8080/"
    },
    "id": "ugBCDcri1-kw",
    "outputId": "7ce5c97a-b8cc-4f7d-f7ad-f51e5f9dc86f"
   },
   "outputs": [],
   "source": [
    "y_predito = random_forest.predict(X_teste)\n",
    "accuracy_score(y_teste, y_predito)"
   ]
  },
  {
   "cell_type": "code",
   "execution_count": null,
   "metadata": {
    "colab": {
     "base_uri": "https://localhost:8080/"
    },
    "id": "bTVa_6kI4KVS",
    "outputId": "5057538c-d1d9-4cca-a187-d0c15e3eb3ef"
   },
   "outputs": [],
   "source": [
    "for caracteristica, score in zip(X_treino, random_forest.feature_importances_):\n",
    "  print('caracteristica {} e Importância {}'.format(caracteristica, score*100))"
   ]
  },
  {
   "cell_type": "code",
   "execution_count": null,
   "metadata": {},
   "outputs": [],
   "source": [
    "from sklearn.metrics import confusion_matrix\n",
    "\n",
    "\n",
    "# Matriz de Confusão\n",
    "\n",
    "confusion_matrix = confusion_matrix(y_teste, y_predito)\n",
    "confusion_matrix"
   ]
  },
  {
   "cell_type": "code",
   "execution_count": null,
   "metadata": {},
   "outputs": [],
   "source": [
    "from sklearn.metrics import classification_report\n",
    "\n",
    "print(classification_report(y_teste, y_predito))\n",
    "\n",
    "# Resultado do classification_report:"
   ]
  },
  {
   "cell_type": "markdown",
   "metadata": {
    "id": "ppLokMM-4z_c"
   },
   "source": [
    "## Boosting : AdaBoost "
   ]
  },
  {
   "cell_type": "code",
   "execution_count": null,
   "metadata": {
    "colab": {
     "base_uri": "https://localhost:8080/"
    },
    "id": "lJVYhcJy43Px",
    "outputId": "4d58c929-0eea-49fa-f27c-497218814d45"
   },
   "outputs": [],
   "source": [
    "# Documentação https://scikit-learn.org/stable/modules/generated/sklearn.ensemble.AdaBoostClassifier.html\n",
    "from sklearn.ensemble import AdaBoostClassifier\n",
    "\n",
    "ada_boost = AdaBoostClassifier(DecisionTreeClassifier(max_depth=5), n_estimators=500, learning_rate=0.7, random_state=17)\n",
    "ada_boost.fit(X_treino, y_treino)"
   ]
  },
  {
   "cell_type": "markdown",
   "metadata": {},
   "source": [
    "n_estimatorsint, default=50\n",
    "The maximum number of estimators at which boosting is terminated. In case of perfect fit, the learning procedure is stopped early. Values must be in the range [1, inf).\n",
    "\n",
    "\n",
    "learning_ratefloat, default=1.0\n",
    "Weight applied to each classifier at each boosting iteration. A higher learning rate increases the contribution of each classifier. There is a trade-off between the learning_rate and n_estimators parameters. Values must be in the range (0.0, inf)."
   ]
  },
  {
   "cell_type": "code",
   "execution_count": null,
   "metadata": {
    "colab": {
     "base_uri": "https://localhost:8080/"
    },
    "id": "qf26YNf45z4O",
    "outputId": "b5921cdc-5c67-4c14-89e7-960eb580ec53"
   },
   "outputs": [],
   "source": [
    "y_predito = ada_boost.predict(X_teste)\n",
    "accuracy_score(y_teste, y_predito)"
   ]
  },
  {
   "cell_type": "code",
   "execution_count": null,
   "metadata": {},
   "outputs": [],
   "source": [
    "from sklearn.metrics import confusion_matrix\n",
    "\n",
    "\n",
    "# Matriz de Confusão\n",
    "\n",
    "confusion_matrix = confusion_matrix(y_teste, y_predito)\n",
    "confusion_matrix"
   ]
  },
  {
   "cell_type": "code",
   "execution_count": null,
   "metadata": {},
   "outputs": [],
   "source": [
    "from sklearn.metrics import classification_report\n",
    "\n",
    "print(classification_report(y_teste, y_predito))\n",
    "\n",
    "# Resultado do classification_report:"
   ]
  },
  {
   "cell_type": "code",
   "execution_count": null,
   "metadata": {},
   "outputs": [],
   "source": []
  },
  {
   "cell_type": "markdown",
   "metadata": {
    "id": "sDBcO6Vn54S3"
   },
   "source": [
    "## Gradient Boosting"
   ]
  },
  {
   "cell_type": "code",
   "execution_count": null,
   "metadata": {
    "colab": {
     "base_uri": "https://localhost:8080/"
    },
    "id": "VtR_LwRA56hs",
    "outputId": "57a4b39d-8c1a-4529-c46a-73d16788beac"
   },
   "outputs": [],
   "source": [
    "# Documentação https://scikit-learn.org/stable/modules/generated/sklearn.ensemble.GradientBoostingClassifier.html\n",
    "from sklearn.ensemble import GradientBoostingClassifier\n",
    "\n"
   ]
  },
  {
   "cell_type": "code",
   "execution_count": null,
   "metadata": {},
   "outputs": [],
   "source": [
    "gradient_boost = GradientBoostingClassifier()\n",
    "\n",
    "gradient_boost.fit(X_treino, y_treino)"
   ]
  },
  {
   "cell_type": "code",
   "execution_count": null,
   "metadata": {
    "colab": {
     "base_uri": "https://localhost:8080/"
    },
    "id": "nCnedZFL6aGO",
    "outputId": "6a64cf9e-9600-4a14-8485-bfbbb2e2102b"
   },
   "outputs": [],
   "source": [
    "y_predito = gradient_boost.predict(X_teste)\n",
    "accuracy_score(y_teste, y_predito)"
   ]
  },
  {
   "cell_type": "code",
   "execution_count": null,
   "metadata": {},
   "outputs": [],
   "source": [
    "from sklearn.metrics import confusion_matrix\n",
    "\n",
    "\n",
    "# Matriz de Confusão\n",
    "\n",
    "confusion_matrix = confusion_matrix(y_teste, y_predito)\n",
    "confusion_matrix"
   ]
  },
  {
   "cell_type": "code",
   "execution_count": null,
   "metadata": {},
   "outputs": [],
   "source": [
    "from sklearn.metrics import classification_report\n",
    "\n",
    "print(classification_report(y_teste, y_predito))\n",
    "\n",
    "# Resultado do classification_report:"
   ]
  },
  {
   "cell_type": "code",
   "execution_count": null,
   "metadata": {},
   "outputs": [],
   "source": [
    "for caracteristica, score in zip(X_treino, gradient_boost.feature_importances_):\n",
    "  print('caracteristica {} e Importância {}'.format(caracteristica, score*100))\n",
    "\n"
   ]
  },
  {
   "cell_type": "markdown",
   "metadata": {
    "id": "K_0kcRSf6eYs"
   },
   "source": [
    "## XGBoost (Extreme Gradient Boosting)"
   ]
  },
  {
   "cell_type": "code",
   "execution_count": null,
   "metadata": {},
   "outputs": [],
   "source": [
    "# Documentação sobre XGBoost https://xgboost.readthedocs.io/en/stable/index.html\n",
    "\n",
    "!pip install  xgboost"
   ]
  },
  {
   "cell_type": "code",
   "execution_count": null,
   "metadata": {},
   "outputs": [],
   "source": [
    "import warnings\n",
    "warnings.simplefilter('ignore')\n",
    "# Import XGBoost\n",
    "import xgboost\n",
    "# XGBoost Classifier\n",
    "from xgboost import XGBClassifier"
   ]
  },
  {
   "cell_type": "code",
   "execution_count": null,
   "metadata": {},
   "outputs": [],
   "source": [
    "X_treino"
   ]
  },
  {
   "cell_type": "code",
   "execution_count": null,
   "metadata": {
    "colab": {
     "base_uri": "https://localhost:8080/"
    },
    "id": "WMbr__PL6pFV",
    "outputId": "14c3952d-54c2-4c4a-e196-983546fce6c3"
   },
   "outputs": [],
   "source": [
    "\n",
    "xgb = xgboost.XGBClassifier(n_estimators=500, max_depth=5, learning_rate=0.01, n_jobs=-1)\n",
    "bst = xgb.fit(X_treino, y_treino)\n",
    "\n"
   ]
  },
  {
   "cell_type": "code",
   "execution_count": null,
   "metadata": {
    "colab": {
     "base_uri": "https://localhost:8080/"
    },
    "id": "LTlC6hEp66qx",
    "outputId": "1e461cde-4206-4259-a4bf-677bb939423f"
   },
   "outputs": [],
   "source": [
    "y_predito = xgb.predict(X_teste)\n",
    "accuracy_score(y_teste, y_predito)"
   ]
  },
  {
   "cell_type": "code",
   "execution_count": null,
   "metadata": {},
   "outputs": [],
   "source": [
    "from sklearn.metrics import confusion_matrix\n",
    "\n",
    "\n",
    "# Matriz de Confusão\n",
    "\n",
    "confusion_matrix = confusion_matrix(y_teste, y_predito)\n",
    "confusion_matrix"
   ]
  },
  {
   "cell_type": "code",
   "execution_count": null,
   "metadata": {
    "colab": {
     "base_uri": "https://localhost:8080/",
     "height": 279
    },
    "id": "rfF5WlprFxLJ",
    "outputId": "c7944104-2404-43c1-f672-33186ba8412e"
   },
   "outputs": [],
   "source": [
    "\n",
    "from sklearn.metrics import ConfusionMatrixDisplay\n",
    "disp = ConfusionMatrixDisplay(confusion_matrix=confusion_matrix, display_labels=['0', '1'])\n",
    "disp.plot();\n",
    "\n"
   ]
  },
  {
   "cell_type": "code",
   "execution_count": null,
   "metadata": {},
   "outputs": [],
   "source": [
    "from sklearn.metrics import classification_report\n",
    "\n",
    "print(classification_report(y_teste, y_predito))\n",
    "\n",
    "# Resultado do classification_report:"
   ]
  },
  {
   "cell_type": "code",
   "execution_count": null,
   "metadata": {},
   "outputs": [],
   "source": [
    "y_predito"
   ]
  },
  {
   "cell_type": "code",
   "execution_count": null,
   "metadata": {
    "colab": {
     "base_uri": "https://localhost:8080/"
    },
    "id": "icI9ba9RomUC",
    "outputId": "bf114d74-77a7-4af5-ffdb-e6054c15a120"
   },
   "outputs": [],
   "source": [
    "from sklearn.model_selection import cross_val_score\n",
    "\n",
    "scores_dt = cross_val_score(xgb, X_treino, y_treino, scoring='accuracy', cv=10)\n",
    "print(scores_dt.mean())"
   ]
  },
  {
   "cell_type": "code",
   "execution_count": null,
   "metadata": {},
   "outputs": [],
   "source": [
    "from xgboost import plot_importance\n",
    "    \n",
    "# Plot feature importance\n",
    "plot_importance(xgb);"
   ]
  },
  {
   "cell_type": "code",
   "execution_count": null,
   "metadata": {},
   "outputs": [],
   "source": [
    " # fazendo de outra forma:"
   ]
  },
  {
   "cell_type": "code",
   "execution_count": null,
   "metadata": {},
   "outputs": [],
   "source": [
    "feature_important = xgb.get_booster().get_score(importance_type='weight')\n",
    "keys = list(feature_important.keys())\n",
    "values = list(feature_important.values())\n",
    "\n"
   ]
  },
  {
   "cell_type": "code",
   "execution_count": null,
   "metadata": {},
   "outputs": [],
   "source": [
    "data = pd.DataFrame(data=values, index=keys, columns=[\"score\"]).sort_values(by = \"score\", ascending=False)\n",
    "data.nlargest(40, columns=\"score\").plot(kind='barh', figsize = (20,10)) ## plot top 40 features"
   ]
  },
  {
   "cell_type": "code",
   "execution_count": null,
   "metadata": {},
   "outputs": [],
   "source": []
  }
 ],
 "metadata": {
  "colab": {
   "name": "Classificação usando Ensemble.ipynb",
   "provenance": []
  },
  "kernelspec": {
   "display_name": "Python 3 (ipykernel)",
   "language": "python",
   "name": "python3"
  },
  "language_info": {
   "codemirror_mode": {
    "name": "ipython",
    "version": 3
   },
   "file_extension": ".py",
   "mimetype": "text/x-python",
   "name": "python",
   "nbconvert_exporter": "python",
   "pygments_lexer": "ipython3",
   "version": "3.9.12"
  }
 },
 "nbformat": 4,
 "nbformat_minor": 1
}
