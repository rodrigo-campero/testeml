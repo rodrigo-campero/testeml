{
 "cells": [
  {
   "cell_type": "markdown",
   "metadata": {},
   "source": [
    "\n",
    "# Modelos \"Ensemble\""
   ]
  },
  {
   "cell_type": "markdown",
   "metadata": {},
   "source": [
    "\n",
    "https://lightgbm.readthedocs.io/en/v3.3.2/\n"
   ]
  },
  {
   "cell_type": "markdown",
   "metadata": {},
   "source": [
    "### Nossa tarefa é analisar o conjunto de dados e prever se a renda de um adulto excederá 50K/ano ou não.\n"
   ]
  },
  {
   "cell_type": "markdown",
   "metadata": {},
   "source": [
    "\n",
    "### Classificador:  \n",
    "\n",
    "    Analisaremos uma base de dados de salários disponível no UCI Machine Learning.\n",
    "\n",
    "    Source: [UCI](https://archive.ics.uci.edu/ml/datasets/Adult) - 1996-05-01 . \n",
    "\n",
    "\n",
    "    A base de dados com 15 colunas e 48.842 linhas (Adult Salary Dataset).\n",
    "\n"
   ]
  },
  {
   "cell_type": "code",
   "execution_count": null,
   "metadata": {},
   "outputs": [],
   "source": [
    "#Import libraries \n",
    "\n",
    "import numpy as np # linear algebra\n",
    "import pandas as pd # data processing\n",
    "\n",
    "# Libraries for data visualization\n",
    "import matplotlib.pyplot as plt  \n",
    "import seaborn as sb \n",
    "from pandas.plotting import scatter_matrix\n",
    "\n",
    "# Import scikit_learn module to split the dataset into train.test sub-datasets\n",
    "from sklearn.model_selection import train_test_split \n",
    "# Import scikit_learn module for k-fold cross validation\n",
    "from sklearn.model_selection import KFold\n",
    "from sklearn.model_selection import cross_val_score\n",
    "# import the metrics class\n",
    "from sklearn import metrics\n",
    "# import stats for accuracy \n",
    "import statsmodels.api as sm\n",
    "\n",
    "\n",
    "\n",
    "\n",
    "!pip install lightgbm\n",
    "\n",
    "!pip install xgboost\n",
    "\n",
    "# import pandas as Series, DataFrame\n",
    "\n",
    "import lightgbm as lgb\n",
    "\n",
    "import shap\n",
    "\n",
    "\n",
    "\n",
    "import xgboost as xgb"
   ]
  },
  {
   "cell_type": "code",
   "execution_count": null,
   "metadata": {},
   "outputs": [],
   "source": [
    "import pandas as Series "
   ]
  },
  {
   "cell_type": "code",
   "execution_count": null,
   "metadata": {},
   "outputs": [],
   "source": [
    "import lightgbm as lgbm\n",
    "\n",
    "import xgboost as xgb"
   ]
  },
  {
   "cell_type": "code",
   "execution_count": null,
   "metadata": {},
   "outputs": [],
   "source": [
    "\n"
   ]
  },
  {
   "cell_type": "markdown",
   "metadata": {},
   "source": [
    "Listing of attributes:\n",
    "\n",
    "    income: >50K, <=50K.\n",
    "    age: continuous.\n",
    "    workclass: Private, Self-emp-not-inc, Self-emp-inc, Federal-gov, Local-gov, State-gov, Without-pay, Never-worked.\n",
    "    fnlwgt: continuous.\n",
    "    education: Bachelors, Some-college, 11th, HS-grad, Prof-school, Assoc-acdm, Assoc-voc, 9th, 7th-8th, 12th, Masters, 1st-4th, 10th, Doctorate, 5th-6th, Preschool.\n",
    "    education-num: continuous.\n",
    "    marital-status: Married-civ-spouse, Divorced, Never-married, Separated, Widowed, Married-spouse-absent, Married-AF-spouse.\n",
    "    occupation: Tech-support, Craft-repair, Other-service, Sales, Exec-managerial, Prof-specialty, Handlers-cleaners, Machine-op-inspct, Adm-clerical, Farming-fishing, Transport-moving, Priv-house-serv, Protective-serv, Armed-Forces.\n",
    "    relationship: Wife, Own-child, Husband, Not-in-family, Other-relative, Unmarried.\n",
    "    race: White, Asian-Pac-Islander, Amer-Indian-Eskimo, Other, Black.\n",
    "    sex: Female, Male.\n",
    "    capital-gain: continuous.\n",
    "    capital-loss: continuous.\n",
    "    hours-per-week: continuous.\n",
    "    native-country: United-States, Cambodia, England, Puerto-Rico, Canada, Germany, Outlying-US(Guam-USVI-etc), India, Japan, Greece, South, China, Cuba, Iran, Honduras, Philippines, Italy, Poland, Jamaica, Vietnam, Mexico, Portugal, Ireland, France, Dominican-Republic, Laos, Ecuador, Taiwan, Haiti, Columbia, Hungary, Guatemala, Nicaragua, Scotland, Thailand, Yugoslavia, El-Salvador, Trinadad&Tobago, Peru, Hong, Holand-Netherlands.\n",
    "\n"
   ]
  },
  {
   "cell_type": "code",
   "execution_count": null,
   "metadata": {
    "colab": {
     "base_uri": "https://localhost:8080/",
     "height": 206
    },
    "id": "agTkcU4XYRxk",
    "outputId": "410a9934-b991-4d7b-9c48-90f101c21d50"
   },
   "outputs": [],
   "source": []
  },
  {
   "cell_type": "code",
   "execution_count": null,
   "metadata": {},
   "outputs": [],
   "source": []
  },
  {
   "cell_type": "code",
   "execution_count": null,
   "metadata": {},
   "outputs": [],
   "source": [
    "#load the dataset direto do github\n",
    "# salary = pd.read_csv('https://raw.githubusercontent.com/llSourcell/Best-Programming-Languages-for-Machine-Learning/master/adults.txt',sep=',')\n",
    "\n",
    "#load the dataset \n",
    "salary = pd.read_csv('adult.csv')\n",
    "salary.head()"
   ]
  },
  {
   "cell_type": "code",
   "execution_count": null,
   "metadata": {},
   "outputs": [],
   "source": [
    "salary"
   ]
  },
  {
   "cell_type": "code",
   "execution_count": null,
   "metadata": {},
   "outputs": [],
   "source": []
  },
  {
   "cell_type": "code",
   "execution_count": null,
   "metadata": {},
   "outputs": [],
   "source": [
    "# salary dataset info to find columns and count of the data \n",
    "salary.info()"
   ]
  },
  {
   "cell_type": "code",
   "execution_count": null,
   "metadata": {},
   "outputs": [],
   "source": [
    "# Verificando a existencia de valores ausentes(missing)\n",
    "\n",
    "salary.isnull().sum()\n"
   ]
  },
  {
   "cell_type": "code",
   "execution_count": null,
   "metadata": {},
   "outputs": [],
   "source": [
    "# Olhando com mais cuidado os valores ausentes!!! "
   ]
  },
  {
   "cell_type": "code",
   "execution_count": null,
   "metadata": {},
   "outputs": [],
   "source": [
    "salary.head(10).T"
   ]
  },
  {
   "cell_type": "markdown",
   "metadata": {},
   "source": [
    "     Quando avaliamos as categorias do gráfico acima da variável workclass encontramos a categoria '?'. \n",
    "     \n",
    "     Não encontramos missings na avaliação inicial das variáveis, mas encontramos esse caracter.\n",
    "     Fazendo uma verificação para as variáveis categoricas.\n",
    "     Encontramos:"
   ]
  },
  {
   "cell_type": "code",
   "execution_count": null,
   "metadata": {},
   "outputs": [],
   "source": [
    "# code will replace the special character to nan and then drop the columns \n",
    "# salary['workclass'] = salary['workclass'].replace('?',np.nan)\n",
    "# salary['native-country'] =salary['native-country'].replace('?',np.nan)\n",
    "# salary['occupation'] = salary['occupation'].replace('?',np.nan)\n",
    "\n",
    "\n",
    "#dropping the NaN rows now \n",
    "# salary.dropna(how='any',inplace=True)\n"
   ]
  },
  {
   "cell_type": "code",
   "execution_count": null,
   "metadata": {},
   "outputs": [],
   "source": [
    "# Verificando a existencia de valores ausentes(missing)\n",
    "\n",
    "salary.isnull().sum()"
   ]
  },
  {
   "cell_type": "markdown",
   "metadata": {},
   "source": [
    "    Uma opção pode ser excluirmos as observações com missings.\n",
    "    Outra opção é não trabalharmos com essas variáveis\n",
    "    Outra opção é usar o missing como uma opção de categoria  \n",
    "\n",
    "    Optamos pela terceira opção"
   ]
  },
  {
   "cell_type": "code",
   "execution_count": null,
   "metadata": {},
   "outputs": [],
   "source": [
    "# informações das variaveis quantitativas\n",
    "\n",
    "salary.describe().T"
   ]
  },
  {
   "cell_type": "code",
   "execution_count": null,
   "metadata": {
    "scrolled": true
   },
   "outputs": [],
   "source": [
    "# Uma variável é a variável target: \"income\" : renda anual \n",
    "\n",
    "salary.income.value_counts()  \n",
    "\n",
    "\n",
    "(salary.income.value_counts() / salary.shape[0]) * 100"
   ]
  },
  {
   "cell_type": "markdown",
   "metadata": {},
   "source": [
    "    A base disponibilizada para realizar o aprendizado apresenta duas classes: <=50K e >50K  \n",
    "\n",
    "    A variável target income está no formato categórica, vamos criar uma nova variável transformando a variável \n",
    "    target em númerica\n",
    "\n",
    "    Há várias opções de fazer essa transformação: vamos usar a função \"map\""
   ]
  },
  {
   "cell_type": "code",
   "execution_count": null,
   "metadata": {},
   "outputs": [],
   "source": [
    " \n",
    "#mapping the data into numerical data using map function\n",
    "salary['income'] = salary['income'].map({'<=50K': 0, '>50K': 1}).astype(int)"
   ]
  },
  {
   "cell_type": "code",
   "execution_count": null,
   "metadata": {},
   "outputs": [],
   "source": [
    "# Label Encoding da variável target\n",
    "# from sklearn.preprocessing import LabelEncoder, OneHotEncoder\n",
    "# le=LabelEncoder()\n",
    "# le.fit(salary.income)\n"
   ]
  },
  {
   "cell_type": "code",
   "execution_count": null,
   "metadata": {},
   "outputs": [],
   "source": [
    "salary['income']"
   ]
  },
  {
   "cell_type": "code",
   "execution_count": null,
   "metadata": {},
   "outputs": [],
   "source": []
  },
  {
   "cell_type": "code",
   "execution_count": null,
   "metadata": {},
   "outputs": [],
   "source": []
  },
  {
   "cell_type": "markdown",
   "metadata": {},
   "source": [
    "    As análises a seguir sempre usaremos a variável target \"Income\" \n",
    "\n",
    "    Vamos analisar as demais variáveis para selecionar quais são as variáveis preditoras plusíveis para utilizar no algoritmo"
   ]
  },
  {
   "cell_type": "code",
   "execution_count": null,
   "metadata": {
    "scrolled": true
   },
   "outputs": [],
   "source": [
    "# Verificando a variável Age\n",
    "\n",
    "sb.histplot(data=salary, x=\"age\");"
   ]
  },
  {
   "cell_type": "markdown",
   "metadata": {},
   "source": [
    "    Quando estamos trabalhando com técnicas supervisionadas precisamos avaliar as variáveis preditoras \n",
    "    sempre verificando sua disribuição separadamente entre as classes."
   ]
  },
  {
   "cell_type": "code",
   "execution_count": null,
   "metadata": {},
   "outputs": [],
   "source": [
    "# Variável age(idade)  com a variável target  (Objetivo)\n",
    "import matplotlib.pyplot as plt  \n",
    "sb.boxplot(x='income', y='age', data=salary)\n",
    "plt.title('Distribuição de age por classe da variável target')\n",
    "plt.show()"
   ]
  },
  {
   "cell_type": "code",
   "execution_count": null,
   "metadata": {},
   "outputs": [],
   "source": [
    "# Transformando a variável \"age\" em  categorias\n",
    "\n",
    "age_cat = []\n",
    "for dados in salary['age']:\n",
    "    if dados <= 30:\n",
    "        age_cat.append('0')\n",
    "    elif dados <= 45:\n",
    "        age_cat.append('1')\n",
    "    else:\n",
    "        age_cat.append(\"2\")#atribuindo a nova variavel ao conjunto de dados\n",
    "salary['age_cat'] = age_cat\n",
    "#resultado\n",
    "salary.head().T\n",
    "# mudar o formato da variável  \n",
    "salary['age_cat'] = salary['age_cat'].astype(int)"
   ]
  },
  {
   "cell_type": "code",
   "execution_count": null,
   "metadata": {},
   "outputs": [],
   "source": [
    "# comparison between age_cat and target\n",
    "\n",
    "Age_cat = pd.crosstab(salary['income'],salary['age_cat'])\n",
    "Age_cat.div(Age_cat.sum(1).astype(float), axis=0).plot(kind=\"bar\", stacked=True, figsize=(6, 6));"
   ]
  },
  {
   "cell_type": "markdown",
   "metadata": {},
   "source": [
    "Podemos verificar pelo boxplot acima da  variável idade  por classe que a classe >50K apresenta medidas de posição  superior que as encontradas na classe <50K."
   ]
  },
  {
   "cell_type": "code",
   "execution_count": null,
   "metadata": {},
   "outputs": [],
   "source": [
    "#plotting a bar graph for age_cat  against Income to see the co-relation between these columns \n",
    "salary.groupby('age_cat').income.mean().plot(kind='bar');\n"
   ]
  },
  {
   "cell_type": "code",
   "execution_count": null,
   "metadata": {},
   "outputs": [],
   "source": [
    "# comparison between Sexo and target\n",
    "\n",
    "Gender = pd.crosstab(salary['income'],salary['gender'])\n",
    "Gender.div(Gender.sum(1).astype(float), axis=0).plot(kind=\"bar\", stacked=True, figsize=(6, 6));"
   ]
  },
  {
   "cell_type": "markdown",
   "metadata": {},
   "source": [
    "Podemos verificar pelo gráfico acima que na classe >50K encontramos maior penetração de indivíduos do sexo masculino, em comparação a classe <=50K."
   ]
  },
  {
   "cell_type": "markdown",
   "metadata": {},
   "source": [
    "Nem todo algoritmo podemos trabalhar com variáveis preditoras categóricas, \n",
    "assim vamos fazer transformações de variáveis: deixando variáveis categóricas em numéricas."
   ]
  },
  {
   "cell_type": "code",
   "execution_count": null,
   "metadata": {},
   "outputs": [],
   "source": [
    "# Transformando a variável categórica em tipo Dummy\n",
    "\n",
    "#gender\n",
    "salary['Male'] = salary['gender'].map({'Male': 1, 'Female': 0}).astype(int)"
   ]
  },
  {
   "cell_type": "code",
   "execution_count": null,
   "metadata": {},
   "outputs": [],
   "source": [
    "#plotting a bar graph for Sex against Income to see the co-relation between these columns \n",
    "salary.groupby('Male').income.mean().plot(kind='bar');"
   ]
  },
  {
   "cell_type": "code",
   "execution_count": null,
   "metadata": {},
   "outputs": [],
   "source": [
    "salary.head().T"
   ]
  },
  {
   "cell_type": "code",
   "execution_count": null,
   "metadata": {},
   "outputs": [],
   "source": [
    "# comparison between marital-status and target\n",
    "\n",
    "MaritalStatus = pd.crosstab(salary['income'],salary['marital-status'])\n",
    "MaritalStatus.div(MaritalStatus.sum(1).astype(float), axis=0).plot(kind=\"bar\", stacked=True, figsize=(12, 12));"
   ]
  },
  {
   "cell_type": "markdown",
   "metadata": {},
   "source": [
    "Comparando as distribuição das categorias de marital-status entre as duas classes, podemos perceber que na classe >50K há um percentual maior da classe Married-civ-spouse"
   ]
  },
  {
   "cell_type": "code",
   "execution_count": null,
   "metadata": {},
   "outputs": [],
   "source": [
    "#marital-status\n",
    " \n",
    "# Transformando a variável Estad civil em casado e Não casado\n",
    "\n",
    "salary['Married'] = salary['marital-status'].map({'Married-spouse-absent': 0, 'Widowed': 0, 'Married-civ-spouse': 1, 'Separated': 0, 'Divorced': 0,'Never-married': 0, 'Married-AF-spouse':1}).astype(int)\n"
   ]
  },
  {
   "cell_type": "code",
   "execution_count": null,
   "metadata": {},
   "outputs": [],
   "source": [
    "# comparison between marital-status and target\n",
    "\n",
    "MaritalStatus = pd.crosstab(salary['income'],salary['Married'])\n",
    "MaritalStatus.div(MaritalStatus.sum(1).astype(float), axis=0).plot(kind=\"bar\", stacked=True, figsize=(6, 6));"
   ]
  },
  {
   "cell_type": "code",
   "execution_count": null,
   "metadata": {},
   "outputs": [],
   "source": [
    "#plotting a bar graph for MaritalStatus  against Income to see the co-relation between these columns \n",
    "salary.groupby('Married').income.mean().plot(kind='bar');\n"
   ]
  },
  {
   "cell_type": "code",
   "execution_count": null,
   "metadata": {},
   "outputs": [],
   "source": [
    "# comparison between educational-num  and target\n",
    "\n",
    "Educational= pd.crosstab(salary['income'],salary['educational-num'])\n",
    "Educational.div(Educational.sum(1).astype(float), axis=0).plot(kind=\"bar\", stacked=True, figsize=(8, 8));\n",
    " "
   ]
  },
  {
   "cell_type": "code",
   "execution_count": null,
   "metadata": {},
   "outputs": [],
   "source": [
    "#plotting a bar graph for educational-num  against Income to see the co-relation between these columns \n",
    "salary.groupby('educational-num').income.mean().plot(kind='bar');"
   ]
  },
  {
   "cell_type": "markdown",
   "metadata": {},
   "source": [
    "Podemos perceber penetração de renda >50K por categoria de educational-num\n",
    "\n",
    "Vamos criar categorias conforme a força dessa penetração"
   ]
  },
  {
   "cell_type": "code",
   "execution_count": null,
   "metadata": {},
   "outputs": [],
   "source": [
    "# PRE-PROCESSAMENTO\n",
    "# Vamos utilizar os algoritmos de classificação para prever os resultados, \n",
    "\n",
    "educa_cat = []\n",
    "for dados in salary['educational-num']:\n",
    "    if dados <= 8:\n",
    "        educa_cat.append('0')\n",
    "    elif dados == 9:\n",
    "        educa_cat.append('1')\n",
    "    elif dados <= 12:\n",
    "        educa_cat.append('2')\n",
    "    else:\n",
    "        educa_cat.append(\"3\")#atribuindo a nova variavel ao conjunto de dados\n",
    "salary['educa_cat'] = educa_cat\n",
    "#resultado\n",
    "salary.head().T\n",
    "salary['educa_cat'] = salary['educa_cat'].astype(int)\n",
    "\n"
   ]
  },
  {
   "cell_type": "code",
   "execution_count": null,
   "metadata": {},
   "outputs": [],
   "source": []
  },
  {
   "cell_type": "code",
   "execution_count": null,
   "metadata": {},
   "outputs": [],
   "source": [
    "# comparison between educational-num  and target\n",
    "\n",
    "Educational= pd.crosstab(salary['income'],salary['educa_cat'])\n",
    "Educational.div(Educational.sum(1).astype(float), axis=0).plot(kind=\"bar\", stacked=True, figsize=(6, 6));\n",
    " "
   ]
  },
  {
   "cell_type": "code",
   "execution_count": null,
   "metadata": {},
   "outputs": [],
   "source": [
    "# plotting a bar graph for educa_cat  against Income to see the co-relation between these columns \n",
    "salary.groupby('educa_cat').income.mean().plot(kind='bar',title='Penetração Renda >50K por escolaridade ');"
   ]
  },
  {
   "cell_type": "code",
   "execution_count": null,
   "metadata": {},
   "outputs": [],
   "source": [
    "# comparison between educational-num  and target\n",
    "\n",
    "Occupation= pd.crosstab(salary['income'],salary['occupation'])\n",
    "Occupation.div(Occupation.sum(1).astype(float), axis=0).plot(kind=\"bar\", stacked=True, figsize=(8, 8));\n",
    " "
   ]
  },
  {
   "cell_type": "code",
   "execution_count": null,
   "metadata": {},
   "outputs": [],
   "source": [
    "# comparison between race  and target\n",
    "\n",
    "Race= pd.crosstab(salary['income'],salary['race'])\n",
    "Race.div(Race.sum(1).astype(float), axis=0).plot(kind=\"bar\", stacked=True, figsize=(10, 10));"
   ]
  },
  {
   "cell_type": "code",
   "execution_count": null,
   "metadata": {},
   "outputs": [],
   "source": [
    "#race\n",
    "salary['race_white'] =salary['race'].map({'Black': 0, 'Asian-Pac-Islander': 0, 'Other': 0, 'White': 1, 'Amer-Indian-Eskimo': 0}).astype(int)\n"
   ]
  },
  {
   "cell_type": "code",
   "execution_count": null,
   "metadata": {
    "scrolled": true
   },
   "outputs": [],
   "source": [
    "# comparison between race_white  and target\n",
    "\n",
    "Race_white= pd.crosstab(salary['income'],salary['race_white'])\n",
    "Race_white.div(Race_white.sum(1).astype(float), axis=0).plot(kind=\"bar\", stacked=True, figsize=(6, 6));"
   ]
  },
  {
   "cell_type": "code",
   "execution_count": null,
   "metadata": {},
   "outputs": [],
   "source": [
    "# plotting a bar graph for race against Income to see the co-relation between these columns \n",
    "salary.groupby('race_white').income.mean().plot(kind='bar');"
   ]
  },
  {
   "cell_type": "markdown",
   "metadata": {},
   "source": []
  },
  {
   "cell_type": "code",
   "execution_count": null,
   "metadata": {},
   "outputs": [],
   "source": []
  },
  {
   "cell_type": "code",
   "execution_count": null,
   "metadata": {},
   "outputs": [],
   "source": [
    "salary.info()"
   ]
  },
  {
   "cell_type": "code",
   "execution_count": null,
   "metadata": {},
   "outputs": [],
   "source": [
    "# Variável hours-per-week  com a variável target  (Objetivo)\n",
    "\n",
    "import matplotlib.pyplot as plt  \n",
    "sb.boxplot(x='income', y='hours-per-week', data=salary)\n",
    "plt.title('Distribuição de hours-per-week por classe da variável target')\n",
    "plt.show()"
   ]
  },
  {
   "cell_type": "code",
   "execution_count": null,
   "metadata": {},
   "outputs": [],
   "source": [
    "horasweek = []\n",
    "for dados in salary['hours-per-week']:\n",
    "    if dados < 40:\n",
    "        horasweek.append('0')\n",
    "    elif dados == 40:\n",
    "        horasweek.append('1')\n",
    "    else:\n",
    "        horasweek.append(\"2\")#atribuindo a nova variavel ao conjunto de dados\n",
    "salary['horasweek'] = horasweek\n",
    "#resultado\n",
    "# mudar o formato da variável  \n",
    "salary['horasweek'] = salary['horasweek'].astype(int)"
   ]
  },
  {
   "cell_type": "code",
   "execution_count": null,
   "metadata": {},
   "outputs": [],
   "source": [
    "# plotting a bar graph for race against Income to see the co-relation between these columns \n",
    "salary.groupby('horasweek').income.mean().plot(kind='bar');"
   ]
  },
  {
   "cell_type": "code",
   "execution_count": null,
   "metadata": {},
   "outputs": [],
   "source": [
    "\n",
    "# Variável capital-gain  com a variável target  (Objetivo)\n",
    "\n",
    "import matplotlib.pyplot as plt  \n",
    "sb.boxplot(x='income', y='capital-gain', data=salary)\n",
    "plt.title('Distribuição de capital-gain por classe da variável target')\n",
    "plt.show()"
   ]
  },
  {
   "cell_type": "code",
   "execution_count": null,
   "metadata": {},
   "outputs": [],
   "source": [
    "capitalgain = []\n",
    "for dados in salary['capital-gain']:\n",
    "    if dados == 0:\n",
    "        capitalgain.append('0')\n",
    "    else:\n",
    "        capitalgain.append(\"1\")#atribuindo a nova variavel ao conjunto de dados\n",
    "salary['capitalgain'] = capitalgain\n",
    "\n",
    "# se teve ou não ganho de capital\n",
    "(salary.capitalgain.value_counts() / salary.shape[0]) * 100"
   ]
  },
  {
   "cell_type": "code",
   "execution_count": null,
   "metadata": {},
   "outputs": [],
   "source": [
    "# plotting a bar graph for race against Income to see the co-relation between these columns \n",
    "salary.groupby('capitalgain').income.mean().plot(kind='bar');"
   ]
  },
  {
   "cell_type": "code",
   "execution_count": null,
   "metadata": {},
   "outputs": [],
   "source": []
  },
  {
   "cell_type": "code",
   "execution_count": null,
   "metadata": {},
   "outputs": [],
   "source": [
    "\n",
    "# Variável capital-loss  com a variável target  (Objetivo)\n",
    "\n",
    "import matplotlib.pyplot as plt  \n",
    "sb.boxplot(x='income', y='capital-loss', data=salary)\n",
    "plt.title('Distribuição de capital-loss por classe da variável target')\n",
    "plt.show()"
   ]
  },
  {
   "cell_type": "code",
   "execution_count": null,
   "metadata": {},
   "outputs": [],
   "source": [
    "capitalloss = []\n",
    "for dados in salary['capital-loss']:\n",
    "    if dados == 0:\n",
    "        capitalloss.append('0')\n",
    "    else:\n",
    "        capitalloss.append(\"1\")#atribuindo a nova variavel ao conjunto de dados\n",
    "salary['capitalloss'] = capitalloss\n",
    "#resultado\n",
    "\n",
    "# se teve ou não perda de capital\n",
    "(salary.capitalloss.value_counts() / salary.shape[0]) * 100"
   ]
  },
  {
   "cell_type": "code",
   "execution_count": null,
   "metadata": {},
   "outputs": [],
   "source": [
    "# plotting a bar graph for race against Income to see the co-relation between these columns \n",
    "salary.groupby('capitalloss').income.mean().plot(kind='bar');"
   ]
  },
  {
   "cell_type": "code",
   "execution_count": null,
   "metadata": {},
   "outputs": [],
   "source": [
    "check = salary.groupby(['capitalgain', 'capitalloss']).size().unstack(1)\n",
    "check.head(20)"
   ]
  },
  {
   "cell_type": "code",
   "execution_count": null,
   "metadata": {},
   "outputs": [],
   "source": [
    "# Criar uma variável gainloss no Data Frame, sendo 0 = não ganhou nem perdeu capaital , 1= ganhou ou perdeu \n",
    "salary.loc[((salary.capitalgain =='0') & (salary.capitalloss =='0')),'gainloss']='0'\n",
    "salary.loc[((salary.capitalgain =='1') & (salary.capitalloss =='0')), 'gainloss']='1'\n",
    "salary.loc[((salary.capitalgain =='0') & (salary.capitalloss =='1')), 'gainloss']='1'\n",
    "salary.loc[((salary.capitalgain =='1') & (salary.capitalloss =='1')), 'gainloss']='1'\n",
    "\n",
    "(salary.gainloss.value_counts() / salary.shape[0]) * 100\n",
    "\n",
    "# mudar o formato da variável  \n",
    "salary['gainloss'] = salary['gainloss'].astype(int)"
   ]
  },
  {
   "cell_type": "code",
   "execution_count": null,
   "metadata": {},
   "outputs": [],
   "source": [
    "# se teve ou não perda de capital\n",
    "(salary.gainloss.value_counts() / salary.shape[0]) * 100"
   ]
  },
  {
   "cell_type": "code",
   "execution_count": null,
   "metadata": {},
   "outputs": [],
   "source": [
    "# plotting a bar graph for race against Income to see the co-relation between these columns \n",
    "salary.groupby('gainloss').income.mean().plot(kind='bar');"
   ]
  },
  {
   "cell_type": "code",
   "execution_count": null,
   "metadata": {},
   "outputs": [],
   "source": [
    "#informaoes das variaveis\n",
    "salary.info()"
   ]
  },
  {
   "cell_type": "code",
   "execution_count": null,
   "metadata": {},
   "outputs": [],
   "source": [
    "#dropping based on uniquiness of data from the dataset \n",
    "# A função Pandas .drop() é usada para remover colunas ou linhas especificadas.\n",
    "# axis=1 representa que pretendemos descartar a própria coluna, \n",
    "# inplace=True é mencionar que estamos substituindo o dataframe original, ou seja, \n",
    "# salary pelo conjunto de dados limpo após descartar as colunas.\n",
    "\n",
    "\n",
    "salary.drop(['fnlwgt','education' ,'educational-num','marital-status','relationship', 'race', 'gender','capital-gain', 'capital-loss', 'hours-per-week', 'native-country','age_cat','capitalgain', 'capitalloss'  ], axis=1, inplace=True)"
   ]
  },
  {
   "cell_type": "code",
   "execution_count": null,
   "metadata": {},
   "outputs": [],
   "source": [
    "salary.info()"
   ]
  },
  {
   "cell_type": "markdown",
   "metadata": {},
   "source": [
    "Finalmente temos:\n",
    "\n",
    " Variável Target: Income (classe de renda <=50K e >50K) \n",
    " Variáveis Preditoras: "
   ]
  },
  {
   "cell_type": "code",
   "execution_count": null,
   "metadata": {},
   "outputs": [],
   "source": [
    "#One Hot Encoding  of the Categorical features\n",
    "one_hot_workclass=pd.get_dummies(salary.workclass)\n",
    "one_hot_occupation=pd.get_dummies(salary.occupation)\n",
    "one_hot_marital_status=pd.get_dummies(salary.marital-status)\n",
    "one_hot_relationship=pd.get_dummies(salary.relationship)   \n",
    "one_hot_sex=pd.get_dummies(salary.gender)\n",
    "one_hot_race=pd.get_dummies(salary.race)\n",
    "one_hot_native_country=pd.get_dummies(salary.native-country)\n",
    "one_hot_education=pd.get_dummies(salary.education)   \n"
   ]
  },
  {
   "cell_type": "code",
   "execution_count": null,
   "metadata": {},
   "outputs": [],
   "source": [
    "#salary=pd.concat([salary, one_hot_workclass,one_hot_occupation, one_hot_marital_status,one_hot_occupation,one_hot_sex,one_hot_race,one_hot_native_country, one_hot_education,one_hot_relationship])\n",
    "salary=pd.concat([salary, one_hot_occupation])"
   ]
  },
  {
   "cell_type": "code",
   "execution_count": null,
   "metadata": {},
   "outputs": [],
   "source": [
    "\n",
    "salary"
   ]
  },
  {
   "cell_type": "code",
   "execution_count": null,
   "metadata": {},
   "outputs": [],
   "source": [
    "salary.info()"
   ]
  },
  {
   "cell_type": "code",
   "execution_count": null,
   "metadata": {},
   "outputs": [],
   "source": [
    "\n",
    "salary.head().T\n"
   ]
  },
  {
   "cell_type": "code",
   "execution_count": null,
   "metadata": {},
   "outputs": [],
   "source": [
    "salary.duplicated().sum()\n",
    "salary.drop_duplicates(keep=False, inplace=True)\n",
    "salary.duplicated().sum()\n"
   ]
  },
  {
   "cell_type": "code",
   "execution_count": null,
   "metadata": {},
   "outputs": [],
   "source": []
  },
  {
   "cell_type": "markdown",
   "metadata": {},
   "source": [
    "Agora que chegamos nas variáveis de analise: Variável target income e variáveis preditoras: "
   ]
  },
  {
   "cell_type": "code",
   "execution_count": null,
   "metadata": {},
   "outputs": [],
   "source": [
    "salary.info()\n"
   ]
  },
  {
   "cell_type": "code",
   "execution_count": null,
   "metadata": {},
   "outputs": [],
   "source": [
    "salary.describe().T"
   ]
  },
  {
   "cell_type": "code",
   "execution_count": null,
   "metadata": {},
   "outputs": [],
   "source": [
    "# usando o classificador Naive Bayes CategoricalNB com a variável idade categorica\n",
    "# 1º: Separar o conjunto em variavel resposta e variaveis de treinamento\n",
    " \n",
    "   \n",
    "    \n",
    "X = salary.drop(['income','workclass', 'occupation'], axis=1)\n",
    "\n",
    "\n",
    "y = salary['income']\n",
    "X.shape, y.shape\n"
   ]
  },
  {
   "cell_type": "code",
   "execution_count": null,
   "metadata": {},
   "outputs": [],
   "source": [
    " "
   ]
  },
  {
   "cell_type": "code",
   "execution_count": null,
   "metadata": {},
   "outputs": [],
   "source": [
    "# Separating our data into features dataset (X) e target dataset(y)\n",
    "\n",
    "\n"
   ]
  },
  {
   "cell_type": "code",
   "execution_count": null,
   "metadata": {},
   "outputs": [],
   "source": [
    "X.info()"
   ]
  },
  {
   "cell_type": "code",
   "execution_count": null,
   "metadata": {},
   "outputs": [],
   "source": [
    "print(X)"
   ]
  },
  {
   "cell_type": "code",
   "execution_count": null,
   "metadata": {},
   "outputs": [],
   "source": [
    "print(y)"
   ]
  },
  {
   "cell_type": "code",
   "execution_count": null,
   "metadata": {},
   "outputs": [],
   "source": [
    "# Verificando a existencia de valores ausentes(missing)\n",
    "\n",
    "X.isnull().sum()\n"
   ]
  },
  {
   "cell_type": "code",
   "execution_count": null,
   "metadata": {},
   "outputs": [],
   "source": []
  },
  {
   "cell_type": "code",
   "execution_count": null,
   "metadata": {},
   "outputs": [],
   "source": [
    "y.fillna(y.mode()[0],inplace=True)"
   ]
  },
  {
   "cell_type": "code",
   "execution_count": null,
   "metadata": {},
   "outputs": [],
   "source": [
    "#Split the data into 70% training and 30% testing data\n",
    "#NOTE: We have to split the dependent variables (x) and the target or independent variable (y)\n",
    "X_train, X_test, y_train, y_test = train_test_split(X, y, test_size=0.30, random_state=17)"
   ]
  },
  {
   "cell_type": "markdown",
   "metadata": {},
   "source": [
    "XGBoost"
   ]
  },
  {
   "cell_type": "code",
   "execution_count": null,
   "metadata": {},
   "outputs": [],
   "source": [
    "# Applying XGBoost\n",
    "# The data is stored in a DMatrix object\n",
    "# label is used to define our outcome variable\n",
    "import xgboost as xgb\n",
    "\n",
    "\n",
    "dtrain=xgb.DMatrix(X_train, label=y_train)\n",
    "dtest=xgb.DMatrix(X_test, label=y_test)\n",
    "\n"
   ]
  },
  {
   "cell_type": "code",
   "execution_count": null,
   "metadata": {},
   "outputs": [],
   "source": [
    "# setting parameters for xgboost\n",
    "parameters={'max_depth':5,  'eta':1, 'silente':1, 'objective':'binary:logistic',\n",
    "'eval_matrix': 'auc', 'learning_rate':.05}\n"
   ]
  },
  {
   "cell_type": "code",
   "execution_count": null,
   "metadata": {},
   "outputs": [],
   "source": []
  },
  {
   "cell_type": "code",
   "execution_count": null,
   "metadata": {},
   "outputs": [],
   "source": [
    "# training our model\n",
    "num_round=50\n",
    "from datetime import datetime\n",
    "start = datetime.now()\n",
    "\n",
    "xg=xgb.train(parameters, dtrain, num_round)\n",
    "stop=datetime.now()\n",
    "#Execution time of the model\n",
    "execution_time_xgb = stop-start\n"
   ]
  },
  {
   "cell_type": "code",
   "execution_count": null,
   "metadata": {},
   "outputs": [],
   "source": [
    "#now predicting our model on dataset\n",
    "\n",
    "y_pred =xg.predict(dtest)\n",
    "y_pred.size\n"
   ]
  },
  {
   "cell_type": "code",
   "execution_count": null,
   "metadata": {},
   "outputs": [],
   "source": [
    "# converting probabilities into 1 or 0\n",
    "\n",
    "for i in range(0,14653):\n",
    "      if y_pred[i]>0.5:    #setting threshold to 0.5\n",
    "          y_pred[i]=1\n",
    "      else:\n",
    "           y_pred[i]=0\n"
   ]
  },
  {
   "cell_type": "code",
   "execution_count": null,
   "metadata": {},
   "outputs": [],
   "source": [
    "#calculating accuracy of our model\n",
    "\n",
    "from sklearn.metrics import accuracy_score\n",
    "accuracy_xgb=accuracy_score(y_test,y_pred)\n",
    "accuracy_xgb\n",
    "\n",
    " "
   ]
  },
  {
   "cell_type": "code",
   "execution_count": null,
   "metadata": {},
   "outputs": [],
   "source": [
    "from sklearn.metrics import roc_auc_score\n",
    "#calculating roc_auc for xgboost\n",
    "auc_xgb = roc_auc_score(y_test, y_pred)\n",
    "auc_xgb\n"
   ]
  },
  {
   "cell_type": "code",
   "execution_count": null,
   "metadata": {},
   "outputs": [],
   "source": [
    "from sklearn.metrics import confusion_matrix\n",
    "\n",
    "cm = confusion_matrix(y_pred, y_test)\n",
    "print(cm)"
   ]
  },
  {
   "cell_type": "code",
   "execution_count": null,
   "metadata": {},
   "outputs": [],
   "source": [
    "from sklearn.metrics import classification_report\n",
    "\n",
    "print(classification_report(y_test, y_pred))"
   ]
  },
  {
   "cell_type": "markdown",
   "metadata": {},
   "source": [
    "LightGBM"
   ]
  },
  {
   "cell_type": "code",
   "execution_count": null,
   "metadata": {},
   "outputs": [],
   "source": [
    "#Light GBM\n",
    "train_data=lgb.Dataset(X_train, label=y_train)\n",
    " \n",
    "test_data = lgb.Dataset(X_test, label=y_test)"
   ]
  },
  {
   "cell_type": "code",
   "execution_count": null,
   "metadata": {},
   "outputs": [],
   "source": [
    "train_data"
   ]
  },
  {
   "cell_type": "code",
   "execution_count": null,
   "metadata": {},
   "outputs": [],
   "source": [
    "# setting parameters for Lightgbm\n",
    "params = {'num_leaves':150, #número padrão=31\n",
    "'objective':'binary',\n",
    "'max_depth':7,\n",
    "'learning_rate':.05,\n",
    "'max_bin':200}\n",
    "params['metric'] = ['auc', 'binary_logloss']\n",
    "\n",
    "\n",
    "\n"
   ]
  },
  {
   "cell_type": "code",
   "execution_count": null,
   "metadata": {},
   "outputs": [],
   "source": [
    "\n",
    "params = {\n",
    "    \"max_bin\": 512,\n",
    "    \"learning_rate\": 0.05,\n",
    "    \"boosting_type\": \"gbdt\",\n",
    "    \"objective\": \"binary\",\n",
    "    \"metric\": \"binary_logloss\",\n",
    "    \"num_leaves\": 10,\n",
    "    \"verbose\": -1,\n",
    "    \"min_data\": 100,\n",
    "    \"boost_from_average\": True\n",
    "}\n"
   ]
  },
  {
   "cell_type": "code",
   "execution_count": null,
   "metadata": {},
   "outputs": [],
   "source": [
    "params"
   ]
  },
  {
   "cell_type": "code",
   "execution_count": null,
   "metadata": {},
   "outputs": [],
   "source": []
  },
  {
   "cell_type": "code",
   "execution_count": null,
   "metadata": {},
   "outputs": [],
   "source": [
    "# Where we have set max _depth in xgb and lightGBM to 7  to have a fair comparison between the two.\n",
    "\n",
    "#training our model using LightGBM\n",
    "num_round=50\n",
    "start=datetime.now()\n",
    "model = lgb.train(params, train_data)\n",
    "\n",
    "\n",
    "stop=datetime.now()\n",
    "#execution time of the model\n",
    "execution_time_lgbm=stop-start\n",
    "execution_time_lgbm"
   ]
  },
  {
   "cell_type": "code",
   "execution_count": null,
   "metadata": {},
   "outputs": [],
   "source": [
    "#predicting on test set\n",
    "y_pred2=model.predict(X_test)\n",
    "y_pred2[0:5]  #showing first´s predictions\n"
   ]
  },
  {
   "cell_type": "code",
   "execution_count": null,
   "metadata": {},
   "outputs": [],
   "source": [
    " "
   ]
  },
  {
   "cell_type": "code",
   "execution_count": null,
   "metadata": {},
   "outputs": [],
   "source": [
    "y_pred2.size\n",
    "\n",
    "\n"
   ]
  },
  {
   "cell_type": "code",
   "execution_count": null,
   "metadata": {},
   "outputs": [],
   "source": [
    "#converting probabilities into 0 or 1\n",
    "for i in range(0,14653):\n",
    "      if y_pred2[i]>0.5:    #setting threshold to 0.5\n",
    "          y_pred2[i]=1\n",
    "      else:\n",
    "           y_pred2[i]=0"
   ]
  },
  {
   "cell_type": "code",
   "execution_count": null,
   "metadata": {},
   "outputs": [],
   "source": [
    "#calculating accuracy\n",
    "accuracy_lgbm = accuracy_score(y_pred2,y_test)\n",
    "accuracy_lgbm\n",
    " "
   ]
  },
  {
   "cell_type": "code",
   "execution_count": null,
   "metadata": {},
   "outputs": [],
   "source": [
    "y_test.value_counts()\n"
   ]
  },
  {
   "cell_type": "markdown",
   "metadata": {},
   "source": [
    "Comparing XGBoost x LightGBM\n"
   ]
  },
  {
   "cell_type": "code",
   "execution_count": null,
   "metadata": {},
   "outputs": [],
   "source": [
    "#calculating roc_auc for xgboost\n",
    "auc_lgbm = roc_auc_score(y_test, y_pred2)\n",
    "auc_lgbm"
   ]
  },
  {
   "cell_type": "code",
   "execution_count": null,
   "metadata": {},
   "outputs": [],
   "source": [
    "aux_lgbm = comparison_dct = {'accuracy score': (accuracy_lgbm, accuracy_xgb), 'auc_score':  (auc_lgbm, auc_xgb),'execution_time': (execution_time_lgbm, execution_time_xgb)}\n",
    "\n",
    "aux_lgbm\n"
   ]
  },
  {
   "cell_type": "code",
   "execution_count": null,
   "metadata": {},
   "outputs": [],
   "source": []
  },
  {
   "cell_type": "code",
   "execution_count": null,
   "metadata": {},
   "outputs": [],
   "source": [
    "import pandas as DataFrame\n",
    "\n",
    "\n",
    "# creating a dataset ‘comparison_df’ for comparing of LightGBM e XGB\n",
    "\n",
    "comparison_df = pd.DataFrame(aux_lgbm)\n",
    "comparison_df.index=['LightGBM','XGBBoost']\n",
    "comparison_df"
   ]
  },
  {
   "cell_type": "code",
   "execution_count": null,
   "metadata": {},
   "outputs": [],
   "source": [
    "!pip install shap\n",
    "\n",
    "\n",
    "import shap\n"
   ]
  },
  {
   "cell_type": "code",
   "execution_count": null,
   "metadata": {},
   "outputs": [],
   "source": [
    "explainer = shap.TreeExplainer(model)\n",
    "shap_values = explainer.shap_values(X)"
   ]
  },
  {
   "cell_type": "code",
   "execution_count": null,
   "metadata": {},
   "outputs": [],
   "source": [
    "\n",
    "shap.summary_plot(shap_values, X)"
   ]
  },
  {
   "cell_type": "code",
   "execution_count": null,
   "metadata": {},
   "outputs": [],
   "source": []
  },
  {
   "cell_type": "code",
   "execution_count": null,
   "metadata": {},
   "outputs": [],
   "source": []
  }
 ],
 "metadata": {
  "colab": {
   "name": "Classificação Naive Bayes.ipynb",
   "provenance": []
  },
  "kernelspec": {
   "display_name": "Python 3 (ipykernel)",
   "language": "python",
   "name": "python3"
  },
  "language_info": {
   "codemirror_mode": {
    "name": "ipython",
    "version": 3
   },
   "file_extension": ".py",
   "mimetype": "text/x-python",
   "name": "python",
   "nbconvert_exporter": "python",
   "pygments_lexer": "ipython3",
   "version": "3.9.12"
  }
 },
 "nbformat": 4,
 "nbformat_minor": 1
}
