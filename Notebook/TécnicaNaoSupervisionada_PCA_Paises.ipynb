{
 "cells": [
  {
   "cell_type": "markdown",
   "id": "518833ae",
   "metadata": {},
   "source": [
    "## PYTHON JOURNEY MACHINE & DEEP LEARNING\n",
    "### Trabalho prático usando Python\n",
    " \n",
    "### Principal Component Analysis  (PCA)\n",
    "### Dimensionality Reduction"
   ]
  },
  {
   "attachments": {
    "Dic_corrida.png": {
     "image/png": "[encoded data removed]"
    }
   },
   "cell_type": "markdown",
   "id": "f967a331",
   "metadata": {},
   "source": [
    "### Exemplo de aplicação da técnica de PCA\n",
    "\n",
    "#### Objetivo: Criar uma segmentação de países utilizando os recordes femininos da modalidade esportiva de corridas. Para o desenvolvimento do modelo será utilizada uma base disponível no site da universidade de Wisconsin através do endereço: http://www.stat.wisc.edu/~rich/JWMULT06dat/T1-9.dat.\n",
    "\n",
    "#### Nesta base temos os recordes femininos internacionais, referência 2005, das seguintes modalidades: 100 metros em segundos, 200 metros em segundos, 400 metros em segundos, 800 metros em minutos, 1.500 metros em minutos, 3.000 metros em minutos e maratona em minutos.\n",
    "\n",
    "#### Dicionário de variáveis\n",
    "\n",
    "![Dic_corrida.png](attachment:Dic_corrida.png)"
   ]
  },
  {
   "cell_type": "code",
   "execution_count": null,
   "id": "f93332aa",
   "metadata": {},
   "outputs": [],
   "source": [
    "# Importar as bibliotecas\n",
    "import matplotlib.pyplot as plt\n",
    "import pandas as pd\n",
    "import numpy as np\n",
    "import seaborn as sb\n",
    "%matplotlib inline"
   ]
  },
  {
   "cell_type": "code",
   "execution_count": null,
   "id": "010a968f",
   "metadata": {},
   "outputs": [],
   "source": [
    "# Importar os dados\n",
    "dados = pd.read_csv(\"Base_Paises.csv\", sep=\";\")"
   ]
  },
  {
   "cell_type": "code",
   "execution_count": null,
   "id": "9eda606d",
   "metadata": {},
   "outputs": [],
   "source": [
    "dados.head()"
   ]
  },
  {
   "cell_type": "code",
   "execution_count": null,
   "id": "ede34cab",
   "metadata": {},
   "outputs": [],
   "source": [
    "dados.info()"
   ]
  },
  {
   "cell_type": "code",
   "execution_count": null,
   "id": "4fce00f1",
   "metadata": {},
   "outputs": [],
   "source": [
    "dados.describe().T"
   ]
  },
  {
   "cell_type": "code",
   "execution_count": null,
   "id": "0e691d9c",
   "metadata": {},
   "outputs": [],
   "source": [
    "print(dados)"
   ]
  },
  {
   "cell_type": "code",
   "execution_count": null,
   "id": "94a551a0",
   "metadata": {},
   "outputs": [],
   "source": [
    "dados.isna().sum()"
   ]
  },
  {
   "cell_type": "code",
   "execution_count": null,
   "id": "3cde37ae",
   "metadata": {},
   "outputs": [],
   "source": []
  },
  {
   "cell_type": "code",
   "execution_count": null,
   "id": "f0e359b1",
   "metadata": {},
   "outputs": [],
   "source": [
    "# draw boxplots to visualize outliers\n",
    "\n",
    "plt.figure(figsize=(24,20))\n",
    "\n",
    "\n",
    "plt.subplot(4, 2, 1)\n",
    "fig = dados.boxplot(column='p100ms')\n",
    "fig.set_title('')\n",
    "fig.set_ylabel('p100ms')\n",
    "\n",
    "\n",
    "plt.subplot(4, 2, 2)\n",
    "fig = dados.boxplot(column='p200ms')\n",
    "fig.set_title('')\n",
    "fig.set_ylabel('p200ms')\n",
    "\n",
    "\n",
    "plt.subplot(4, 2, 3)\n",
    "fig = dados.boxplot(column='p400ms')\n",
    "fig.set_title('')\n",
    "fig.set_ylabel('p400ms')\n",
    "\n",
    "plt.subplot(4, 2, 4)\n",
    "fig = dados.boxplot(column='p800mm')\n",
    "fig.set_title('')\n",
    "fig.set_ylabel('p800mm')\n",
    "\n",
    "plt.subplot(4, 2, 5)\n",
    "fig = dados.boxplot(column='p1500mm')\n",
    "fig.set_title('')\n",
    "fig.set_ylabel('p1500mm')\n",
    "\n",
    "plt.subplot(4, 2, 6)\n",
    "fig = dados.boxplot(column='p3000mm')\n",
    "fig.set_title('')\n",
    "fig.set_ylabel('p3000mm')\n",
    "\n",
    "\n",
    "plt.subplot(4, 2, 7)\n",
    "fig = dados.boxplot(column='pmaratm')\n",
    "fig.set_title('')\n",
    "fig.set_ylabel('pmaratm')\n"
   ]
  },
  {
   "cell_type": "code",
   "execution_count": null,
   "id": "68517d54",
   "metadata": {},
   "outputs": [],
   "source": [
    "# Excluindo outliers e selecionando somente as variáveis segmentadoras\n",
    "\n",
    "#aux = dados[dados['pmaratm'] < 180] \n",
    "# dados_semout = aux.drop(['PAIS'], axis=1)\n",
    "\n",
    "dados_semout = dados.drop(['PAIS'], axis=1)\n",
    "\n",
    "dados_semout.describe()\n",
    "\n"
   ]
  },
  {
   "cell_type": "code",
   "execution_count": null,
   "id": "766f5d24",
   "metadata": {},
   "outputs": [],
   "source": [
    "\n"
   ]
  },
  {
   "cell_type": "code",
   "execution_count": null,
   "id": "711a619f",
   "metadata": {},
   "outputs": [],
   "source": [
    "# Análise exploratória dos dados\n",
    "#sb.pairplot()\n",
    "sb.pairplot(dados_semout)"
   ]
  },
  {
   "cell_type": "code",
   "execution_count": null,
   "id": "d718bbc6",
   "metadata": {},
   "outputs": [],
   "source": [
    "# Matriz de Correlação de Pearson\n",
    "dados_semout.corr(method='pearson')"
   ]
  },
  {
   "cell_type": "code",
   "execution_count": null,
   "id": "77e21d25",
   "metadata": {},
   "outputs": [],
   "source": [
    "# Matriz de correlação\n",
    "sb.heatmap(dados_semout.corr(), cmap='coolwarm', annot = True);"
   ]
  },
  {
   "cell_type": "code",
   "execution_count": null,
   "id": "49784ee7",
   "metadata": {},
   "outputs": [],
   "source": [
    "from sklearn.preprocessing import StandardScaler\n",
    "\n",
    "scaler = StandardScaler()\n",
    "scaler.fit(dados_semout)"
   ]
  },
  {
   "cell_type": "code",
   "execution_count": null,
   "id": "3594bc04",
   "metadata": {},
   "outputs": [],
   "source": [
    "scaled_df = scaler.transform(dados_semout)"
   ]
  },
  {
   "cell_type": "code",
   "execution_count": null,
   "id": "1863b1fe",
   "metadata": {},
   "outputs": [],
   "source": [
    "print(scaled_df)"
   ]
  },
  {
   "cell_type": "code",
   "execution_count": null,
   "id": "868aa094",
   "metadata": {},
   "outputs": [],
   "source": []
  },
  {
   "cell_type": "code",
   "execution_count": null,
   "id": "3c297247",
   "metadata": {},
   "outputs": [],
   "source": [
    "from sklearn.decomposition import PCA"
   ]
  },
  {
   "cell_type": "code",
   "execution_count": null,
   "id": "7eb14b24",
   "metadata": {},
   "outputs": [],
   "source": [
    "# Pedindo a quantidade de componentes possíveis p variáveis pode ser gerado até p componnetes\n",
    "pca = PCA(n_components=7)"
   ]
  },
  {
   "cell_type": "code",
   "execution_count": null,
   "id": "070e86e6",
   "metadata": {},
   "outputs": [],
   "source": [
    "pca.fit(scaled_df)"
   ]
  },
  {
   "cell_type": "code",
   "execution_count": null,
   "id": "bb5e4d1e",
   "metadata": {},
   "outputs": [],
   "source": [
    "print('Auto-valores:')\n",
    "print(pca.explained_variance_)\n",
    "print()\n",
    "\n",
    "# a soma dos auto-valores é igual a quantidade de variáveis"
   ]
  },
  {
   "cell_type": "code",
   "execution_count": null,
   "id": "f3a5e36d",
   "metadata": {},
   "outputs": [],
   "source": [
    "# Quanto da variância é explicada por cada componente.\n",
    "print('Variância Explicada:')\n",
    "print(pca.explained_variance_ratio_)\n",
    "print()\n"
   ]
  },
  {
   "cell_type": "code",
   "execution_count": null,
   "id": "75000232",
   "metadata": {},
   "outputs": [],
   "source": [
    "print('Auto-vetores:')\n",
    "print(pca.components_)\n",
    "print()\n"
   ]
  },
  {
   "cell_type": "code",
   "execution_count": null,
   "id": "9226471f",
   "metadata": {
    "scrolled": true
   },
   "outputs": [],
   "source": [
    "from pandas import DataFrame\n",
    "\n",
    "loadings = DataFrame(pca.components_.T)\n",
    "loadings.index = ['PC %s' % pc for pc in loadings.index + 1]\n",
    "loadings.columns = ['TS %s' % pc for pc in loadings.columns + 1]\n",
    "loadings"
   ]
  },
  {
   "cell_type": "code",
   "execution_count": null,
   "id": "c2b47189",
   "metadata": {},
   "outputs": [],
   "source": [
    "# Gráfico Scree Plot\n",
    "\n",
    "perc = pca.explained_variance_ratio_ * 100\n",
    "\n",
    "perc = DataFrame(perc, columns=['Percentage explained ratio'], index=['PC %s' % pc for pc in np.arange(len(perc)) + 1])\n",
    "ax = perc.plot(kind='bar')"
   ]
  },
  {
   "cell_type": "code",
   "execution_count": null,
   "id": "a6307262",
   "metadata": {},
   "outputs": [],
   "source": []
  },
  {
   "cell_type": "code",
   "execution_count": null,
   "id": "43917425",
   "metadata": {},
   "outputs": [],
   "source": [
    "# base padronizada\n",
    "\n",
    "scaled_df.shape"
   ]
  },
  {
   "cell_type": "code",
   "execution_count": null,
   "id": "bc38e1a2",
   "metadata": {},
   "outputs": [],
   "source": [
    "scaled_df.round(2)"
   ]
  },
  {
   "cell_type": "code",
   "execution_count": null,
   "id": "76251c8d",
   "metadata": {},
   "outputs": [],
   "source": [
    "# Pontuando a base com o PCA\n",
    "\n",
    "x_pca = pca.transform(scaled_df)"
   ]
  },
  {
   "cell_type": "code",
   "execution_count": null,
   "id": "ac9343fc",
   "metadata": {},
   "outputs": [],
   "source": [
    "# base pontuada com PCA\n",
    "\n",
    "x_pca.shape"
   ]
  },
  {
   "cell_type": "code",
   "execution_count": null,
   "id": "dc4d1d36",
   "metadata": {},
   "outputs": [],
   "source": [
    "# base componentes principais\n",
    "x_pca.round(2)"
   ]
  },
  {
   "cell_type": "markdown",
   "id": "4fed326a",
   "metadata": {},
   "source": [
    "# Extraindo e plotando dois componentes"
   ]
  },
  {
   "cell_type": "code",
   "execution_count": null,
   "id": "e87088f3",
   "metadata": {},
   "outputs": [],
   "source": [
    "from sklearn.decomposition import PCA\n",
    "\n",
    "line = dict(linewidth=1, linestyle='--', color='k')\n",
    "marker = dict(linestyle='none', marker='o', markersize=7, color='red', alpha=0.5)\n",
    "\n",
    "\n",
    "pca = PCA(n_components=2, copy=True)\n",
    "X_2 = pca.fit_transform(scaled_df)\n",
    "\n",
    "fig, ax = plt.subplots()\n",
    "ax.plot(X_2[:, 0], X_2[:, 1], **marker) \n",
    "ax.set_xlim([-2, 2])\n",
    "ax.set_ylim([-2, 2])\n",
    "ax.axhline(**line)\n",
    "ax.axvline(**line)\n",
    "_ = ax.set_title(\"PCA\")"
   ]
  },
  {
   "cell_type": "markdown",
   "id": "a6dab516",
   "metadata": {},
   "source": [
    "# Selecionando somente 1 componente "
   ]
  },
  {
   "cell_type": "code",
   "execution_count": null,
   "id": "27eaf9b5",
   "metadata": {},
   "outputs": [],
   "source": [
    "pca_1 = PCA(n_components=1)\n",
    " "
   ]
  },
  {
   "cell_type": "code",
   "execution_count": null,
   "id": "06e18411",
   "metadata": {},
   "outputs": [],
   "source": [
    "pca_1.fit(scaled_df)"
   ]
  },
  {
   "cell_type": "code",
   "execution_count": null,
   "id": "d6ebe3ff",
   "metadata": {},
   "outputs": [],
   "source": [
    "x_pca_1 = pca_1.transform(scaled_df)"
   ]
  },
  {
   "cell_type": "code",
   "execution_count": null,
   "id": "d42d961a",
   "metadata": {},
   "outputs": [],
   "source": []
  },
  {
   "cell_type": "code",
   "execution_count": null,
   "id": "b87e5628",
   "metadata": {},
   "outputs": [],
   "source": [
    "# Check the dimensions of data after PCA\n",
    "x_pca_1.shape"
   ]
  },
  {
   "cell_type": "code",
   "execution_count": null,
   "id": "0d4975b8",
   "metadata": {},
   "outputs": [],
   "source": [
    "x_pca_1.round(2)"
   ]
  },
  {
   "cell_type": "code",
   "execution_count": null,
   "id": "44fe7b96",
   "metadata": {},
   "outputs": [],
   "source": [
    "# Check the values of eigen vectors\n",
    "# prodeced by principal components\n",
    "\n",
    "pca_1.components_"
   ]
  },
  {
   "cell_type": "code",
   "execution_count": null,
   "id": "d0e12982",
   "metadata": {},
   "outputs": [],
   "source": []
  },
  {
   "cell_type": "code",
   "execution_count": null,
   "id": "40c150c3",
   "metadata": {},
   "outputs": [],
   "source": [
    "PCA_1 = x_pca_1[:,0]"
   ]
  },
  {
   "cell_type": "code",
   "execution_count": null,
   "id": "dbef2121",
   "metadata": {},
   "outputs": [],
   "source": [
    "PCA_1"
   ]
  },
  {
   "cell_type": "code",
   "execution_count": null,
   "id": "0390aab1",
   "metadata": {},
   "outputs": [],
   "source": [
    "PCA_1.round(2)"
   ]
  },
  {
   "cell_type": "code",
   "execution_count": null,
   "id": "a9ba1458",
   "metadata": {},
   "outputs": [],
   "source": [
    "Basefim = DataFrame(PCA_1) "
   ]
  },
  {
   "cell_type": "code",
   "execution_count": null,
   "id": "f07bfeb7",
   "metadata": {},
   "outputs": [],
   "source": [
    "Basefim.columns = ['PCA_1']"
   ]
  },
  {
   "cell_type": "code",
   "execution_count": null,
   "id": "094229c7",
   "metadata": {},
   "outputs": [],
   "source": [
    "Basefim['PAIS'] =  DataFrame(dados['PAIS'] )"
   ]
  },
  {
   "cell_type": "code",
   "execution_count": null,
   "id": "2f089f41",
   "metadata": {},
   "outputs": [],
   "source": [
    "Basefim['PAIS'] = dados['PAIS'] "
   ]
  },
  {
   "cell_type": "code",
   "execution_count": null,
   "id": "9dccf56f",
   "metadata": {
    "scrolled": true
   },
   "outputs": [],
   "source": [
    "Basefim "
   ]
  },
  {
   "cell_type": "code",
   "execution_count": null,
   "id": "c9c8356a",
   "metadata": {},
   "outputs": [],
   "source": [
    "Basefim.describe().round()"
   ]
  },
  {
   "cell_type": "code",
   "execution_count": null,
   "id": "e7d9edd3",
   "metadata": {},
   "outputs": [],
   "source": [
    "#transformando o componenete: Quanto mais rápido maior o indicador\n",
    "Basefim['PCA_1'] = -Basefim['PCA_1']"
   ]
  },
  {
   "cell_type": "code",
   "execution_count": null,
   "id": "bee91936",
   "metadata": {},
   "outputs": [],
   "source": [
    "Basefim.describe().round()"
   ]
  },
  {
   "cell_type": "code",
   "execution_count": null,
   "id": "8e4cc0b9",
   "metadata": {},
   "outputs": [],
   "source": [
    "#transformando o indicadoor de Performance:normalização de 0 a 1 e multiplicado por 100\n",
    "\n",
    "Basefim['IndPerf'] = (Basefim['PCA_1'] - min(Basefim['PCA_1']))/( max(Basefim['PCA_1']) - min(Basefim['PCA_1']) ) *100"
   ]
  },
  {
   "cell_type": "code",
   "execution_count": null,
   "id": "2bd11190",
   "metadata": {},
   "outputs": [],
   "source": [
    "Basefim.describe().round(2)"
   ]
  },
  {
   "cell_type": "code",
   "execution_count": null,
   "id": "8c9aaa38",
   "metadata": {},
   "outputs": [],
   "source": [
    "Basefim "
   ]
  },
  {
   "cell_type": "code",
   "execution_count": null,
   "id": "75734a0e",
   "metadata": {},
   "outputs": [],
   "source": []
  },
  {
   "cell_type": "code",
   "execution_count": null,
   "id": "a97f7427",
   "metadata": {},
   "outputs": [],
   "source": []
  }
 ],
 "metadata": {
  "kernelspec": {
   "display_name": "Python 3 (ipykernel)",
   "language": "python",
   "name": "python3"
  },
  "language_info": {
   "codemirror_mode": {
    "name": "ipython",
    "version": 3
   },
   "file_extension": ".py",
   "mimetype": "text/x-python",
   "name": "python",
   "nbconvert_exporter": "python",
   "pygments_lexer": "ipython3",
   "version": "3.9.12"
  }
 },
 "nbformat": 4,
 "nbformat_minor": 5
}
